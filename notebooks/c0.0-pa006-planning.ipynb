{
 "cells": [
  {
   "cell_type": "markdown",
   "id": "292cf703",
   "metadata": {
    "heading_collapsed": true,
    "hide_input": false
   },
   "source": [
    "# PA006 - Bank Marketing  Strategy"
   ]
  },
  {
   "cell_type": "markdown",
   "id": "f8701950",
   "metadata": {
    "ExecuteTime": {
     "end_time": "2023-01-16T14:14:48.677569Z",
     "start_time": "2023-01-16T14:14:48.663739Z"
    }
   },
   "source": [
    "# Solution Planning ( IOT )"
   ]
  },
  {
   "cell_type": "markdown",
   "id": "6d936278",
   "metadata": {},
   "source": [
    "## Imput"
   ]
  },
  {
   "cell_type": "markdown",
   "id": "1f203dac",
   "metadata": {},
   "source": [
    " I have been as a Data Scientis Consultant to build a data product that create a customers segmentattion which will handle the marketing strategy and the following expected results from consultancy:\n",
    "        \n",
    "        \n",
    "- 1. Create customer segmentation based on clear selection criteria.\n",
    "- 2. Make customer segmentation accessible to the operations team.\n",
    "- 3. Teach the operations team how to use the solution.\n",
    "- 4. Transfer knowledge to international bank Data Scientists.\n",
    "- 5. Recommend 3 business levers for each customer segment. \n"
   ]
  },
  {
   "cell_type": "markdown",
   "id": "49fe41af",
   "metadata": {},
   "source": [
    "## Output"
   ]
  },
  {
   "cell_type": "markdown",
   "id": "aec8939e",
   "metadata": {},
   "source": [
    "- Tools:\n",
    "    - Jupyter Notebook\n",
    "    - Metabase\n",
    "    - Streamlit\n",
    "    \n",
    "    \n",
    "- URL to the Operation team make tests;\n",
    "- Download of selected data;\n"
   ]
  },
  {
   "cell_type": "markdown",
   "id": "b55b70e4",
   "metadata": {
    "ExecuteTime": {
     "end_time": "2023-01-16T14:37:23.823872Z",
     "start_time": "2023-01-16T14:37:23.818225Z"
    }
   },
   "source": [
    "# Tasks"
   ]
  },
  {
   "cell_type": "markdown",
   "id": "25b214d1",
   "metadata": {},
   "source": [
    "- Data Descriptive:\n",
    "    - NA's replace\n",
    "    - Outliers Detection\n",
    "    \n",
    "    \n",
    "- EDA:\n",
    "    - Univariate Analysis\n",
    "    - Bivariate Analysis\n",
    "    - Outliers Detection\n",
    "    - Feature Selection\n",
    "    - Study of Space\n",
    "    - Embeding Definition\n",
    "    \n",
    "- Machine Learning Training:\n",
    "    - Performance Analysis\n",
    "    - Clustering Analysis\n",
    "    - Define clustering number\n",
    "    \n",
    "- EDA - Insights:\n",
    "    - Expain the segmentattion characters\n",
    "    \n",
    "- Table to store the clustered clients\n",
    "- Creat the production script\n",
    "\n",
    "\n",
    "- AWS Architecture:\n",
    "    - S3 for store the data\n",
    "    - EC2 for store the ETL and visualization tool.\n",
    "    - DB to store the table \n",
    "    - Cronjob\n",
    "    - Papermill"
   ]
  },
  {
   "cell_type": "markdown",
   "id": "1aa7f8be",
   "metadata": {
    "heading_collapsed": true
   },
   "source": [
    "# 0.1 Imports"
   ]
  },
  {
   "cell_type": "markdown",
   "id": "3af39d2b",
   "metadata": {
    "heading_collapsed": true
   },
   "source": [
    "# 0.2 Helper functions"
   ]
  },
  {
   "cell_type": "markdown",
   "id": "82f67e86",
   "metadata": {
    "heading_collapsed": true
   },
   "source": [
    "# 1.0 Data Discriptive"
   ]
  },
  {
   "cell_type": "markdown",
   "id": "3f550a4a",
   "metadata": {
    "heading_collapsed": true
   },
   "source": [
    "# 2.0 Data Filtering"
   ]
  },
  {
   "cell_type": "markdown",
   "id": "d945192f",
   "metadata": {
    "heading_collapsed": true
   },
   "source": [
    "# 3.0 Feature Engeneering"
   ]
  },
  {
   "cell_type": "markdown",
   "id": "b4c63af1",
   "metadata": {
    "heading_collapsed": true
   },
   "source": [
    "# 4.0 Exploratory Data Analysis"
   ]
  },
  {
   "cell_type": "markdown",
   "id": "bb962cac",
   "metadata": {
    "ExecuteTime": {
     "end_time": "2023-01-12T14:53:22.351841Z",
     "start_time": "2023-01-12T14:53:22.349203Z"
    },
    "heading_collapsed": true
   },
   "source": [
    "# 5.0 Data Preparation"
   ]
  },
  {
   "cell_type": "markdown",
   "id": "d44e139f",
   "metadata": {
    "heading_collapsed": true
   },
   "source": [
    "# 6.0 Feature Selection"
   ]
  },
  {
   "cell_type": "markdown",
   "id": "f736e519",
   "metadata": {
    "heading_collapsed": true
   },
   "source": [
    "# 7.0 Fine Tunning Hyperparameter"
   ]
  },
  {
   "cell_type": "markdown",
   "id": "039b5e3b",
   "metadata": {
    "heading_collapsed": true
   },
   "source": [
    "# 8.0 Machine Learning"
   ]
  },
  {
   "cell_type": "markdown",
   "id": "322f19a2",
   "metadata": {
    "heading_collapsed": true
   },
   "source": [
    "# 9.0 Clustering Analysis"
   ]
  },
  {
   "cell_type": "markdown",
   "id": "447ab427",
   "metadata": {
    "ExecuteTime": {
     "end_time": "2023-01-16T14:19:32.489275Z",
     "start_time": "2023-01-16T14:19:32.486511Z"
    },
    "heading_collapsed": true
   },
   "source": [
    "# 10.0 EDA - Insight Reports"
   ]
  },
  {
   "cell_type": "markdown",
   "id": "cca65584",
   "metadata": {
    "heading_collapsed": true
   },
   "source": [
    "# 11.0 Deploy to Production"
   ]
  },
  {
   "cell_type": "code",
   "execution_count": null,
   "id": "f4ef963a",
   "metadata": {
    "hidden": true
   },
   "outputs": [],
   "source": []
  }
 ],
 "metadata": {
  "kernelspec": {
   "display_name": "Python 3 (ipykernel)",
   "language": "python",
   "name": "python3"
  },
  "language_info": {
   "codemirror_mode": {
    "name": "ipython",
    "version": 3
   },
   "file_extension": ".py",
   "mimetype": "text/x-python",
   "name": "python",
   "nbconvert_exporter": "python",
   "pygments_lexer": "ipython3",
   "version": "3.9.15"
  }
 },
 "nbformat": 4,
 "nbformat_minor": 5
}
