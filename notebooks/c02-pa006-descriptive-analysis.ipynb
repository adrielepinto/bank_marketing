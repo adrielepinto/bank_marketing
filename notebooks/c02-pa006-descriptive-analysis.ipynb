{
 "cells": [
  {
   "cell_type": "markdown",
   "id": "db6cd70b",
   "metadata": {},
   "source": [
    "# 0.1 Imports"
   ]
  },
  {
   "cell_type": "code",
   "execution_count": 150,
   "id": "edf96e82",
   "metadata": {
    "ExecuteTime": {
     "end_time": "2023-01-12T14:41:07.808379Z",
     "start_time": "2023-01-12T14:41:07.805265Z"
    }
   },
   "outputs": [],
   "source": [
    "import inflection\n",
    "import pandas            as pd\n",
    "import seaborn           as sns\n",
    "import matplotlib.pyplot as plt\n",
    "\n",
    "from IPython.core.display        import HTML\n"
   ]
  },
  {
   "cell_type": "markdown",
   "id": "7760574e",
   "metadata": {},
   "source": [
    "# 0.2 Helper functions"
   ]
  },
  {
   "cell_type": "code",
   "execution_count": 151,
   "id": "95d9b45e",
   "metadata": {
    "ExecuteTime": {
     "end_time": "2023-01-12T14:41:08.200993Z",
     "start_time": "2023-01-12T14:41:08.179582Z"
    }
   },
   "outputs": [
    {
     "data": {
      "text/html": [
       "<style>.container { width:100% !important; }</style>"
      ],
      "text/plain": [
       "<IPython.core.display.HTML object>"
      ]
     },
     "metadata": {},
     "output_type": "display_data"
    },
    {
     "name": "stdout",
     "output_type": "stream",
     "text": [
      "%pylab is deprecated, use %matplotlib inline and import the required libraries.\n",
      "Populating the interactive namespace from numpy and matplotlib\n"
     ]
    },
    {
     "data": {
      "text/html": [
       "<style>.container { width:100% !important; }</style>"
      ],
      "text/plain": [
       "<IPython.core.display.HTML object>"
      ]
     },
     "metadata": {},
     "output_type": "display_data"
    }
   ],
   "source": [
    "def jupyter_settings(): \n",
    "    %matplotlib inline \n",
    "    #%matplotlib notebook\n",
    "    %pylab inline\n",
    "    \n",
    "    plt.style.use('bmh')\n",
    "    plt.rcParams['figure.figsize'] = [25, 12]\n",
    "    plt.rcParams['font.size'] = 24\n",
    "    \n",
    "     \n",
    "    display( HTML( '<style>.container { width:100% !important; }</style>') )\n",
    "    pd.options.display.max_columns = None\n",
    "    pd.options.display.max_rows = None\n",
    "    pd.set_option ('display.expand_frame_repr', False)\n",
    "    \n",
    "    sns.set()\n",
    "\n",
    "%matplotlib inline \n",
    "%matplotlib notebook\n",
    "\n",
    "plt.style.use('bmh')\n",
    "plt.rcParams['figure.figsize'] = [25, 12]\n",
    "plt.rcParams['font.size'] = 24\n",
    "\n",
    "\n",
    "display( HTML( '<style>.container { width:100% !important; }</style>') )\n",
    "pd.options.display.max_columns = None\n",
    "pd.options.display.max_rows = None\n",
    "pd.set_option ('display.expand_frame_repr', False)\n",
    "\n",
    "sns.set()\n",
    "\n",
    "jupyter_settings()\n"
   ]
  },
  {
   "cell_type": "markdown",
   "id": "b5f1b767",
   "metadata": {},
   "source": [
    "# 1.0 Data Discriptive"
   ]
  },
  {
   "cell_type": "markdown",
   "id": "f2170173",
   "metadata": {},
   "source": [
    "## 1.1 Load dataset"
   ]
  },
  {
   "cell_type": "code",
   "execution_count": 152,
   "id": "ff823962",
   "metadata": {
    "ExecuteTime": {
     "end_time": "2023-01-12T14:41:08.973642Z",
     "start_time": "2023-01-12T14:41:08.946219Z"
    }
   },
   "outputs": [],
   "source": [
    "df1 = pd.read_csv( '/Users/adriele/Documents/repos/pa006/dataset/bank.csv')"
   ]
  },
  {
   "cell_type": "markdown",
   "id": "37c916a8",
   "metadata": {},
   "source": [
    "## 1.2 Rename columns"
   ]
  },
  {
   "cell_type": "code",
   "execution_count": 153,
   "id": "eb1be559",
   "metadata": {
    "ExecuteTime": {
     "end_time": "2023-01-12T14:41:09.342839Z",
     "start_time": "2023-01-12T14:41:09.338403Z"
    }
   },
   "outputs": [
    {
     "data": {
      "text/plain": [
       "Index(['CUST_ID', 'BALANCE', 'BALANCE_FREQUENCY', 'PURCHASES',\n",
       "       'ONEOFF_PURCHASES', 'INSTALLMENTS_PURCHASES', 'CASH_ADVANCE',\n",
       "       'PURCHASES_FREQUENCY', 'ONEOFF_PURCHASES_FREQUENCY',\n",
       "       'PURCHASES_INSTALLMENTS_FREQUENCY', 'CASH_ADVANCE_FREQUENCY',\n",
       "       'CASH_ADVANCE_TRX', 'PURCHASES_TRX', 'CREDIT_LIMIT', 'PAYMENTS',\n",
       "       'MINIMUM_PAYMENTS', 'PRC_FULL_PAYMENT', 'TENURE'],\n",
       "      dtype='object')"
      ]
     },
     "execution_count": 153,
     "metadata": {},
     "output_type": "execute_result"
    }
   ],
   "source": [
    "df1.columns"
   ]
  },
  {
   "cell_type": "code",
   "execution_count": 154,
   "id": "fcfa66c3",
   "metadata": {
    "ExecuteTime": {
     "end_time": "2023-01-12T14:41:09.533183Z",
     "start_time": "2023-01-12T14:41:09.529789Z"
    }
   },
   "outputs": [],
   "source": [
    "df1.columns = [ 'id', 'balance', 'balance_freq', 'purchases','one_purchases', 'install_purchases', 'cash_adv',\n",
    "       'purchases_freq', 'one_purchases_freq', 'purchases_install_freq', 'cash_adv_freq',\n",
    "       'cash_adv_TRX', 'purchases_trx', 'credit_limit', 'payments','min_pay', 'prc_full_pay', 'tenure']\n",
    "\n"
   ]
  },
  {
   "cell_type": "code",
   "execution_count": 155,
   "id": "1a1f3668",
   "metadata": {
    "ExecuteTime": {
     "end_time": "2023-01-12T14:41:09.741836Z",
     "start_time": "2023-01-12T14:41:09.718571Z"
    }
   },
   "outputs": [
    {
     "data": {
      "text/html": [
       "<div>\n",
       "<style scoped>\n",
       "    .dataframe tbody tr th:only-of-type {\n",
       "        vertical-align: middle;\n",
       "    }\n",
       "\n",
       "    .dataframe tbody tr th {\n",
       "        vertical-align: top;\n",
       "    }\n",
       "\n",
       "    .dataframe thead th {\n",
       "        text-align: right;\n",
       "    }\n",
       "</style>\n",
       "<table border=\"1\" class=\"dataframe\">\n",
       "  <thead>\n",
       "    <tr style=\"text-align: right;\">\n",
       "      <th></th>\n",
       "      <th>id</th>\n",
       "      <th>balance</th>\n",
       "      <th>balance_freq</th>\n",
       "      <th>purchases</th>\n",
       "      <th>one_purchases</th>\n",
       "      <th>install_purchases</th>\n",
       "      <th>cash_adv</th>\n",
       "      <th>purchases_freq</th>\n",
       "      <th>one_purchases_freq</th>\n",
       "      <th>purchases_install_freq</th>\n",
       "      <th>cash_adv_freq</th>\n",
       "      <th>cash_adv_TRX</th>\n",
       "      <th>purchases_trx</th>\n",
       "      <th>credit_limit</th>\n",
       "      <th>payments</th>\n",
       "      <th>min_pay</th>\n",
       "      <th>prc_full_pay</th>\n",
       "      <th>tenure</th>\n",
       "    </tr>\n",
       "  </thead>\n",
       "  <tbody>\n",
       "    <tr>\n",
       "      <th>0</th>\n",
       "      <td>C10001</td>\n",
       "      <td>40.900749</td>\n",
       "      <td>0.818182</td>\n",
       "      <td>95.40</td>\n",
       "      <td>0.00</td>\n",
       "      <td>95.40</td>\n",
       "      <td>0.000000</td>\n",
       "      <td>0.166667</td>\n",
       "      <td>0.000000</td>\n",
       "      <td>0.083333</td>\n",
       "      <td>0.000000</td>\n",
       "      <td>0</td>\n",
       "      <td>2</td>\n",
       "      <td>1000.0</td>\n",
       "      <td>201.802084</td>\n",
       "      <td>139.509787</td>\n",
       "      <td>0.000000</td>\n",
       "      <td>12</td>\n",
       "    </tr>\n",
       "    <tr>\n",
       "      <th>1</th>\n",
       "      <td>C10002</td>\n",
       "      <td>3202.467416</td>\n",
       "      <td>0.909091</td>\n",
       "      <td>0.00</td>\n",
       "      <td>0.00</td>\n",
       "      <td>0.00</td>\n",
       "      <td>6442.945483</td>\n",
       "      <td>0.000000</td>\n",
       "      <td>0.000000</td>\n",
       "      <td>0.000000</td>\n",
       "      <td>0.250000</td>\n",
       "      <td>4</td>\n",
       "      <td>0</td>\n",
       "      <td>7000.0</td>\n",
       "      <td>4103.032597</td>\n",
       "      <td>1072.340217</td>\n",
       "      <td>0.222222</td>\n",
       "      <td>12</td>\n",
       "    </tr>\n",
       "    <tr>\n",
       "      <th>2</th>\n",
       "      <td>C10003</td>\n",
       "      <td>2495.148862</td>\n",
       "      <td>1.000000</td>\n",
       "      <td>773.17</td>\n",
       "      <td>773.17</td>\n",
       "      <td>0.00</td>\n",
       "      <td>0.000000</td>\n",
       "      <td>1.000000</td>\n",
       "      <td>1.000000</td>\n",
       "      <td>0.000000</td>\n",
       "      <td>0.000000</td>\n",
       "      <td>0</td>\n",
       "      <td>12</td>\n",
       "      <td>7500.0</td>\n",
       "      <td>622.066742</td>\n",
       "      <td>627.284787</td>\n",
       "      <td>0.000000</td>\n",
       "      <td>12</td>\n",
       "    </tr>\n",
       "    <tr>\n",
       "      <th>3</th>\n",
       "      <td>C10004</td>\n",
       "      <td>1666.670542</td>\n",
       "      <td>0.636364</td>\n",
       "      <td>1499.00</td>\n",
       "      <td>1499.00</td>\n",
       "      <td>0.00</td>\n",
       "      <td>205.788017</td>\n",
       "      <td>0.083333</td>\n",
       "      <td>0.083333</td>\n",
       "      <td>0.000000</td>\n",
       "      <td>0.083333</td>\n",
       "      <td>1</td>\n",
       "      <td>1</td>\n",
       "      <td>7500.0</td>\n",
       "      <td>0.000000</td>\n",
       "      <td>NaN</td>\n",
       "      <td>0.000000</td>\n",
       "      <td>12</td>\n",
       "    </tr>\n",
       "    <tr>\n",
       "      <th>4</th>\n",
       "      <td>C10005</td>\n",
       "      <td>817.714335</td>\n",
       "      <td>1.000000</td>\n",
       "      <td>16.00</td>\n",
       "      <td>16.00</td>\n",
       "      <td>0.00</td>\n",
       "      <td>0.000000</td>\n",
       "      <td>0.083333</td>\n",
       "      <td>0.083333</td>\n",
       "      <td>0.000000</td>\n",
       "      <td>0.000000</td>\n",
       "      <td>0</td>\n",
       "      <td>1</td>\n",
       "      <td>1200.0</td>\n",
       "      <td>678.334763</td>\n",
       "      <td>244.791237</td>\n",
       "      <td>0.000000</td>\n",
       "      <td>12</td>\n",
       "    </tr>\n",
       "    <tr>\n",
       "      <th>5</th>\n",
       "      <td>C10006</td>\n",
       "      <td>1809.828751</td>\n",
       "      <td>1.000000</td>\n",
       "      <td>1333.28</td>\n",
       "      <td>0.00</td>\n",
       "      <td>1333.28</td>\n",
       "      <td>0.000000</td>\n",
       "      <td>0.666667</td>\n",
       "      <td>0.000000</td>\n",
       "      <td>0.583333</td>\n",
       "      <td>0.000000</td>\n",
       "      <td>0</td>\n",
       "      <td>8</td>\n",
       "      <td>1800.0</td>\n",
       "      <td>1400.057770</td>\n",
       "      <td>2407.246035</td>\n",
       "      <td>0.000000</td>\n",
       "      <td>12</td>\n",
       "    </tr>\n",
       "    <tr>\n",
       "      <th>6</th>\n",
       "      <td>C10007</td>\n",
       "      <td>627.260806</td>\n",
       "      <td>1.000000</td>\n",
       "      <td>7091.01</td>\n",
       "      <td>6402.63</td>\n",
       "      <td>688.38</td>\n",
       "      <td>0.000000</td>\n",
       "      <td>1.000000</td>\n",
       "      <td>1.000000</td>\n",
       "      <td>1.000000</td>\n",
       "      <td>0.000000</td>\n",
       "      <td>0</td>\n",
       "      <td>64</td>\n",
       "      <td>13500.0</td>\n",
       "      <td>6354.314328</td>\n",
       "      <td>198.065894</td>\n",
       "      <td>1.000000</td>\n",
       "      <td>12</td>\n",
       "    </tr>\n",
       "    <tr>\n",
       "      <th>7</th>\n",
       "      <td>C10008</td>\n",
       "      <td>1823.652743</td>\n",
       "      <td>1.000000</td>\n",
       "      <td>436.20</td>\n",
       "      <td>0.00</td>\n",
       "      <td>436.20</td>\n",
       "      <td>0.000000</td>\n",
       "      <td>1.000000</td>\n",
       "      <td>0.000000</td>\n",
       "      <td>1.000000</td>\n",
       "      <td>0.000000</td>\n",
       "      <td>0</td>\n",
       "      <td>12</td>\n",
       "      <td>2300.0</td>\n",
       "      <td>679.065082</td>\n",
       "      <td>532.033990</td>\n",
       "      <td>0.000000</td>\n",
       "      <td>12</td>\n",
       "    </tr>\n",
       "    <tr>\n",
       "      <th>8</th>\n",
       "      <td>C10009</td>\n",
       "      <td>1014.926473</td>\n",
       "      <td>1.000000</td>\n",
       "      <td>861.49</td>\n",
       "      <td>661.49</td>\n",
       "      <td>200.00</td>\n",
       "      <td>0.000000</td>\n",
       "      <td>0.333333</td>\n",
       "      <td>0.083333</td>\n",
       "      <td>0.250000</td>\n",
       "      <td>0.000000</td>\n",
       "      <td>0</td>\n",
       "      <td>5</td>\n",
       "      <td>7000.0</td>\n",
       "      <td>688.278568</td>\n",
       "      <td>311.963409</td>\n",
       "      <td>0.000000</td>\n",
       "      <td>12</td>\n",
       "    </tr>\n",
       "    <tr>\n",
       "      <th>9</th>\n",
       "      <td>C10010</td>\n",
       "      <td>152.225975</td>\n",
       "      <td>0.545455</td>\n",
       "      <td>1281.60</td>\n",
       "      <td>1281.60</td>\n",
       "      <td>0.00</td>\n",
       "      <td>0.000000</td>\n",
       "      <td>0.166667</td>\n",
       "      <td>0.166667</td>\n",
       "      <td>0.000000</td>\n",
       "      <td>0.000000</td>\n",
       "      <td>0</td>\n",
       "      <td>3</td>\n",
       "      <td>11000.0</td>\n",
       "      <td>1164.770591</td>\n",
       "      <td>100.302262</td>\n",
       "      <td>0.000000</td>\n",
       "      <td>12</td>\n",
       "    </tr>\n",
       "    <tr>\n",
       "      <th>10</th>\n",
       "      <td>C10011</td>\n",
       "      <td>1293.124939</td>\n",
       "      <td>1.000000</td>\n",
       "      <td>920.12</td>\n",
       "      <td>0.00</td>\n",
       "      <td>920.12</td>\n",
       "      <td>0.000000</td>\n",
       "      <td>1.000000</td>\n",
       "      <td>0.000000</td>\n",
       "      <td>1.000000</td>\n",
       "      <td>0.000000</td>\n",
       "      <td>0</td>\n",
       "      <td>12</td>\n",
       "      <td>1200.0</td>\n",
       "      <td>1083.301007</td>\n",
       "      <td>2172.697765</td>\n",
       "      <td>0.000000</td>\n",
       "      <td>12</td>\n",
       "    </tr>\n",
       "    <tr>\n",
       "      <th>11</th>\n",
       "      <td>C10012</td>\n",
       "      <td>630.794744</td>\n",
       "      <td>0.818182</td>\n",
       "      <td>1492.18</td>\n",
       "      <td>1492.18</td>\n",
       "      <td>0.00</td>\n",
       "      <td>0.000000</td>\n",
       "      <td>0.250000</td>\n",
       "      <td>0.250000</td>\n",
       "      <td>0.000000</td>\n",
       "      <td>0.000000</td>\n",
       "      <td>0</td>\n",
       "      <td>6</td>\n",
       "      <td>2000.0</td>\n",
       "      <td>705.618627</td>\n",
       "      <td>155.549069</td>\n",
       "      <td>0.000000</td>\n",
       "      <td>12</td>\n",
       "    </tr>\n",
       "    <tr>\n",
       "      <th>12</th>\n",
       "      <td>C10013</td>\n",
       "      <td>1516.928620</td>\n",
       "      <td>1.000000</td>\n",
       "      <td>3217.99</td>\n",
       "      <td>2500.23</td>\n",
       "      <td>717.76</td>\n",
       "      <td>0.000000</td>\n",
       "      <td>1.000000</td>\n",
       "      <td>0.250000</td>\n",
       "      <td>0.916667</td>\n",
       "      <td>0.000000</td>\n",
       "      <td>0</td>\n",
       "      <td>26</td>\n",
       "      <td>3000.0</td>\n",
       "      <td>608.263689</td>\n",
       "      <td>490.207013</td>\n",
       "      <td>0.250000</td>\n",
       "      <td>12</td>\n",
       "    </tr>\n",
       "    <tr>\n",
       "      <th>13</th>\n",
       "      <td>C10014</td>\n",
       "      <td>921.693369</td>\n",
       "      <td>1.000000</td>\n",
       "      <td>2137.93</td>\n",
       "      <td>419.96</td>\n",
       "      <td>1717.97</td>\n",
       "      <td>0.000000</td>\n",
       "      <td>0.750000</td>\n",
       "      <td>0.166667</td>\n",
       "      <td>0.750000</td>\n",
       "      <td>0.000000</td>\n",
       "      <td>0</td>\n",
       "      <td>26</td>\n",
       "      <td>7500.0</td>\n",
       "      <td>1655.891435</td>\n",
       "      <td>251.137986</td>\n",
       "      <td>0.083333</td>\n",
       "      <td>12</td>\n",
       "    </tr>\n",
       "    <tr>\n",
       "      <th>14</th>\n",
       "      <td>C10015</td>\n",
       "      <td>2772.772734</td>\n",
       "      <td>1.000000</td>\n",
       "      <td>0.00</td>\n",
       "      <td>0.00</td>\n",
       "      <td>0.00</td>\n",
       "      <td>346.811390</td>\n",
       "      <td>0.000000</td>\n",
       "      <td>0.000000</td>\n",
       "      <td>0.000000</td>\n",
       "      <td>0.083333</td>\n",
       "      <td>1</td>\n",
       "      <td>0</td>\n",
       "      <td>3000.0</td>\n",
       "      <td>805.647974</td>\n",
       "      <td>989.962866</td>\n",
       "      <td>0.000000</td>\n",
       "      <td>12</td>\n",
       "    </tr>\n",
       "    <tr>\n",
       "      <th>15</th>\n",
       "      <td>C10016</td>\n",
       "      <td>6886.213231</td>\n",
       "      <td>1.000000</td>\n",
       "      <td>1611.70</td>\n",
       "      <td>0.00</td>\n",
       "      <td>1611.70</td>\n",
       "      <td>2301.491267</td>\n",
       "      <td>0.500000</td>\n",
       "      <td>0.000000</td>\n",
       "      <td>0.500000</td>\n",
       "      <td>0.166667</td>\n",
       "      <td>4</td>\n",
       "      <td>11</td>\n",
       "      <td>8000.0</td>\n",
       "      <td>1993.439277</td>\n",
       "      <td>2109.906490</td>\n",
       "      <td>0.000000</td>\n",
       "      <td>12</td>\n",
       "    </tr>\n",
       "    <tr>\n",
       "      <th>16</th>\n",
       "      <td>C10017</td>\n",
       "      <td>2072.074354</td>\n",
       "      <td>0.875000</td>\n",
       "      <td>0.00</td>\n",
       "      <td>0.00</td>\n",
       "      <td>0.00</td>\n",
       "      <td>2784.274703</td>\n",
       "      <td>0.000000</td>\n",
       "      <td>0.000000</td>\n",
       "      <td>0.000000</td>\n",
       "      <td>0.250000</td>\n",
       "      <td>3</td>\n",
       "      <td>0</td>\n",
       "      <td>3000.0</td>\n",
       "      <td>391.974562</td>\n",
       "      <td>376.579631</td>\n",
       "      <td>0.000000</td>\n",
       "      <td>8</td>\n",
       "    </tr>\n",
       "    <tr>\n",
       "      <th>17</th>\n",
       "      <td>C10018</td>\n",
       "      <td>41.089489</td>\n",
       "      <td>0.454545</td>\n",
       "      <td>519.00</td>\n",
       "      <td>0.00</td>\n",
       "      <td>519.00</td>\n",
       "      <td>0.000000</td>\n",
       "      <td>0.416667</td>\n",
       "      <td>0.000000</td>\n",
       "      <td>0.333333</td>\n",
       "      <td>0.000000</td>\n",
       "      <td>0</td>\n",
       "      <td>8</td>\n",
       "      <td>2500.0</td>\n",
       "      <td>254.590662</td>\n",
       "      <td>73.203221</td>\n",
       "      <td>0.250000</td>\n",
       "      <td>12</td>\n",
       "    </tr>\n",
       "    <tr>\n",
       "      <th>18</th>\n",
       "      <td>C10019</td>\n",
       "      <td>1989.072228</td>\n",
       "      <td>1.000000</td>\n",
       "      <td>504.35</td>\n",
       "      <td>166.00</td>\n",
       "      <td>338.35</td>\n",
       "      <td>0.000000</td>\n",
       "      <td>0.666667</td>\n",
       "      <td>0.083333</td>\n",
       "      <td>0.583333</td>\n",
       "      <td>0.000000</td>\n",
       "      <td>0</td>\n",
       "      <td>9</td>\n",
       "      <td>13000.0</td>\n",
       "      <td>1720.837373</td>\n",
       "      <td>744.613395</td>\n",
       "      <td>0.000000</td>\n",
       "      <td>12</td>\n",
       "    </tr>\n",
       "    <tr>\n",
       "      <th>19</th>\n",
       "      <td>C10020</td>\n",
       "      <td>3577.970933</td>\n",
       "      <td>1.000000</td>\n",
       "      <td>398.64</td>\n",
       "      <td>0.00</td>\n",
       "      <td>398.64</td>\n",
       "      <td>0.000000</td>\n",
       "      <td>1.000000</td>\n",
       "      <td>0.000000</td>\n",
       "      <td>1.000000</td>\n",
       "      <td>0.000000</td>\n",
       "      <td>0</td>\n",
       "      <td>12</td>\n",
       "      <td>4000.0</td>\n",
       "      <td>1053.980464</td>\n",
       "      <td>12465.549380</td>\n",
       "      <td>0.000000</td>\n",
       "      <td>12</td>\n",
       "    </tr>\n",
       "  </tbody>\n",
       "</table>\n",
       "</div>"
      ],
      "text/plain": [
       "        id      balance  balance_freq  purchases  one_purchases  install_purchases     cash_adv  purchases_freq  one_purchases_freq  purchases_install_freq  cash_adv_freq  cash_adv_TRX  purchases_trx  credit_limit     payments       min_pay  prc_full_pay  tenure\n",
       "0   C10001    40.900749      0.818182      95.40           0.00              95.40     0.000000        0.166667            0.000000                0.083333       0.000000             0              2        1000.0   201.802084    139.509787      0.000000      12\n",
       "1   C10002  3202.467416      0.909091       0.00           0.00               0.00  6442.945483        0.000000            0.000000                0.000000       0.250000             4              0        7000.0  4103.032597   1072.340217      0.222222      12\n",
       "2   C10003  2495.148862      1.000000     773.17         773.17               0.00     0.000000        1.000000            1.000000                0.000000       0.000000             0             12        7500.0   622.066742    627.284787      0.000000      12\n",
       "3   C10004  1666.670542      0.636364    1499.00        1499.00               0.00   205.788017        0.083333            0.083333                0.000000       0.083333             1              1        7500.0     0.000000           NaN      0.000000      12\n",
       "4   C10005   817.714335      1.000000      16.00          16.00               0.00     0.000000        0.083333            0.083333                0.000000       0.000000             0              1        1200.0   678.334763    244.791237      0.000000      12\n",
       "5   C10006  1809.828751      1.000000    1333.28           0.00            1333.28     0.000000        0.666667            0.000000                0.583333       0.000000             0              8        1800.0  1400.057770   2407.246035      0.000000      12\n",
       "6   C10007   627.260806      1.000000    7091.01        6402.63             688.38     0.000000        1.000000            1.000000                1.000000       0.000000             0             64       13500.0  6354.314328    198.065894      1.000000      12\n",
       "7   C10008  1823.652743      1.000000     436.20           0.00             436.20     0.000000        1.000000            0.000000                1.000000       0.000000             0             12        2300.0   679.065082    532.033990      0.000000      12\n",
       "8   C10009  1014.926473      1.000000     861.49         661.49             200.00     0.000000        0.333333            0.083333                0.250000       0.000000             0              5        7000.0   688.278568    311.963409      0.000000      12\n",
       "9   C10010   152.225975      0.545455    1281.60        1281.60               0.00     0.000000        0.166667            0.166667                0.000000       0.000000             0              3       11000.0  1164.770591    100.302262      0.000000      12\n",
       "10  C10011  1293.124939      1.000000     920.12           0.00             920.12     0.000000        1.000000            0.000000                1.000000       0.000000             0             12        1200.0  1083.301007   2172.697765      0.000000      12\n",
       "11  C10012   630.794744      0.818182    1492.18        1492.18               0.00     0.000000        0.250000            0.250000                0.000000       0.000000             0              6        2000.0   705.618627    155.549069      0.000000      12\n",
       "12  C10013  1516.928620      1.000000    3217.99        2500.23             717.76     0.000000        1.000000            0.250000                0.916667       0.000000             0             26        3000.0   608.263689    490.207013      0.250000      12\n",
       "13  C10014   921.693369      1.000000    2137.93         419.96            1717.97     0.000000        0.750000            0.166667                0.750000       0.000000             0             26        7500.0  1655.891435    251.137986      0.083333      12\n",
       "14  C10015  2772.772734      1.000000       0.00           0.00               0.00   346.811390        0.000000            0.000000                0.000000       0.083333             1              0        3000.0   805.647974    989.962866      0.000000      12\n",
       "15  C10016  6886.213231      1.000000    1611.70           0.00            1611.70  2301.491267        0.500000            0.000000                0.500000       0.166667             4             11        8000.0  1993.439277   2109.906490      0.000000      12\n",
       "16  C10017  2072.074354      0.875000       0.00           0.00               0.00  2784.274703        0.000000            0.000000                0.000000       0.250000             3              0        3000.0   391.974562    376.579631      0.000000       8\n",
       "17  C10018    41.089489      0.454545     519.00           0.00             519.00     0.000000        0.416667            0.000000                0.333333       0.000000             0              8        2500.0   254.590662     73.203221      0.250000      12\n",
       "18  C10019  1989.072228      1.000000     504.35         166.00             338.35     0.000000        0.666667            0.083333                0.583333       0.000000             0              9       13000.0  1720.837373    744.613395      0.000000      12\n",
       "19  C10020  3577.970933      1.000000     398.64           0.00             398.64     0.000000        1.000000            0.000000                1.000000       0.000000             0             12        4000.0  1053.980464  12465.549380      0.000000      12"
      ]
     },
     "execution_count": 155,
     "metadata": {},
     "output_type": "execute_result"
    }
   ],
   "source": [
    "df1.head(20)"
   ]
  },
  {
   "cell_type": "markdown",
   "id": "00278f36",
   "metadata": {},
   "source": [
    "## 1.3 Data Dimension"
   ]
  },
  {
   "cell_type": "code",
   "execution_count": 156,
   "id": "69c91dd8",
   "metadata": {
    "ExecuteTime": {
     "end_time": "2023-01-12T14:41:10.851096Z",
     "start_time": "2023-01-12T14:41:10.847713Z"
    }
   },
   "outputs": [
    {
     "name": "stdout",
     "output_type": "stream",
     "text": [
      "Number of Cols 18\n",
      "Number of Rows 8950\n"
     ]
    }
   ],
   "source": [
    "print( 'Number of Cols {}'.format( df1.shape[1] ) )\n",
    "print( 'Number of Rows {}'.format( df1.shape[0] ) )"
   ]
  },
  {
   "cell_type": "markdown",
   "id": "ee6f6009",
   "metadata": {},
   "source": [
    "## 1.4 Check NA"
   ]
  },
  {
   "cell_type": "code",
   "execution_count": 157,
   "id": "b174689a",
   "metadata": {
    "ExecuteTime": {
     "end_time": "2023-01-12T14:41:11.895012Z",
     "start_time": "2023-01-12T14:41:11.886941Z"
    }
   },
   "outputs": [
    {
     "data": {
      "text/plain": [
       "id                          0\n",
       "balance                     0\n",
       "balance_freq                0\n",
       "purchases                   0\n",
       "one_purchases               0\n",
       "install_purchases           0\n",
       "cash_adv                    0\n",
       "purchases_freq              0\n",
       "one_purchases_freq          0\n",
       "purchases_install_freq      0\n",
       "cash_adv_freq               0\n",
       "cash_adv_TRX                0\n",
       "purchases_trx               0\n",
       "credit_limit                1\n",
       "payments                    0\n",
       "min_pay                   313\n",
       "prc_full_pay                0\n",
       "tenure                      0\n",
       "dtype: int64"
      ]
     },
     "execution_count": 157,
     "metadata": {},
     "output_type": "execute_result"
    }
   ],
   "source": [
    "df1.isna().sum()"
   ]
  },
  {
   "cell_type": "markdown",
   "id": "7a88159e",
   "metadata": {
    "ExecuteTime": {
     "end_time": "2023-01-11T21:03:57.029042Z",
     "start_time": "2023-01-11T21:03:57.026276Z"
    }
   },
   "source": [
    "## 1.5 Replace NA"
   ]
  },
  {
   "cell_type": "code",
   "execution_count": 158,
   "id": "a3e3f277",
   "metadata": {
    "ExecuteTime": {
     "end_time": "2023-01-12T14:41:13.161789Z",
     "start_time": "2023-01-12T14:41:13.155797Z"
    }
   },
   "outputs": [],
   "source": [
    "df1 = df1.fillna(0)"
   ]
  },
  {
   "cell_type": "code",
   "execution_count": 159,
   "id": "882a56a6",
   "metadata": {
    "ExecuteTime": {
     "end_time": "2023-01-12T14:41:14.170782Z",
     "start_time": "2023-01-12T14:41:14.162563Z"
    }
   },
   "outputs": [
    {
     "data": {
      "text/plain": [
       "id                        0\n",
       "balance                   0\n",
       "balance_freq              0\n",
       "purchases                 0\n",
       "one_purchases             0\n",
       "install_purchases         0\n",
       "cash_adv                  0\n",
       "purchases_freq            0\n",
       "one_purchases_freq        0\n",
       "purchases_install_freq    0\n",
       "cash_adv_freq             0\n",
       "cash_adv_TRX              0\n",
       "purchases_trx             0\n",
       "credit_limit              0\n",
       "payments                  0\n",
       "min_pay                   0\n",
       "prc_full_pay              0\n",
       "tenure                    0\n",
       "dtype: int64"
      ]
     },
     "execution_count": 159,
     "metadata": {},
     "output_type": "execute_result"
    }
   ],
   "source": [
    "df1.isna().sum()"
   ]
  },
  {
   "cell_type": "markdown",
   "id": "b893e7da",
   "metadata": {},
   "source": [
    "## 1.6 Data Types"
   ]
  },
  {
   "cell_type": "code",
   "execution_count": 160,
   "id": "b96796a3",
   "metadata": {
    "ExecuteTime": {
     "end_time": "2023-01-12T14:41:16.769712Z",
     "start_time": "2023-01-12T14:41:16.764137Z"
    }
   },
   "outputs": [
    {
     "data": {
      "text/plain": [
       "id                         object\n",
       "balance                   float64\n",
       "balance_freq              float64\n",
       "purchases                 float64\n",
       "one_purchases             float64\n",
       "install_purchases         float64\n",
       "cash_adv                  float64\n",
       "purchases_freq            float64\n",
       "one_purchases_freq        float64\n",
       "purchases_install_freq    float64\n",
       "cash_adv_freq             float64\n",
       "cash_adv_TRX                int64\n",
       "purchases_trx               int64\n",
       "credit_limit              float64\n",
       "payments                  float64\n",
       "min_pay                   float64\n",
       "prc_full_pay              float64\n",
       "tenure                      int64\n",
       "dtype: object"
      ]
     },
     "execution_count": 160,
     "metadata": {},
     "output_type": "execute_result"
    }
   ],
   "source": [
    "df1.dtypes"
   ]
  },
  {
   "cell_type": "code",
   "execution_count": 164,
   "id": "fd1c65bf",
   "metadata": {
    "ExecuteTime": {
     "end_time": "2023-01-12T14:43:22.903619Z",
     "start_time": "2023-01-12T14:43:22.896870Z"
    }
   },
   "outputs": [],
   "source": [
    "df1['id'] = df1['id'].apply(lambda x: x.replace('C', '')).astype(int)"
   ]
  },
  {
   "cell_type": "code",
   "execution_count": 165,
   "id": "e0ecbffe",
   "metadata": {
    "ExecuteTime": {
     "end_time": "2023-01-12T14:43:27.715313Z",
     "start_time": "2023-01-12T14:43:27.709484Z"
    }
   },
   "outputs": [
    {
     "data": {
      "text/plain": [
       "id                          int64\n",
       "balance                   float64\n",
       "balance_freq              float64\n",
       "purchases                 float64\n",
       "one_purchases             float64\n",
       "install_purchases         float64\n",
       "cash_adv                  float64\n",
       "purchases_freq            float64\n",
       "one_purchases_freq        float64\n",
       "purchases_install_freq    float64\n",
       "cash_adv_freq             float64\n",
       "cash_adv_TRX                int64\n",
       "purchases_trx               int64\n",
       "credit_limit              float64\n",
       "payments                  float64\n",
       "min_pay                   float64\n",
       "prc_full_pay              float64\n",
       "tenure                      int64\n",
       "dtype: object"
      ]
     },
     "execution_count": 165,
     "metadata": {},
     "output_type": "execute_result"
    }
   ],
   "source": [
    "df1.dtypes"
   ]
  },
  {
   "cell_type": "markdown",
   "id": "4c03217e",
   "metadata": {},
   "source": [
    "# 2.0 Feature Engeneering"
   ]
  },
  {
   "cell_type": "code",
   "execution_count": 166,
   "id": "89f213db",
   "metadata": {
    "ExecuteTime": {
     "end_time": "2023-01-12T14:45:04.250541Z",
     "start_time": "2023-01-12T14:45:04.246239Z"
    }
   },
   "outputs": [],
   "source": [
    "df2 = df1.copy()"
   ]
  },
  {
   "cell_type": "code",
   "execution_count": 167,
   "id": "a79052fb",
   "metadata": {
    "ExecuteTime": {
     "end_time": "2023-01-12T14:46:50.316052Z",
     "start_time": "2023-01-12T14:46:50.298538Z"
    }
   },
   "outputs": [
    {
     "data": {
      "text/html": [
       "<div>\n",
       "<style scoped>\n",
       "    .dataframe tbody tr th:only-of-type {\n",
       "        vertical-align: middle;\n",
       "    }\n",
       "\n",
       "    .dataframe tbody tr th {\n",
       "        vertical-align: top;\n",
       "    }\n",
       "\n",
       "    .dataframe thead th {\n",
       "        text-align: right;\n",
       "    }\n",
       "</style>\n",
       "<table border=\"1\" class=\"dataframe\">\n",
       "  <thead>\n",
       "    <tr style=\"text-align: right;\">\n",
       "      <th></th>\n",
       "      <th>id</th>\n",
       "      <th>balance</th>\n",
       "      <th>balance_freq</th>\n",
       "      <th>purchases</th>\n",
       "      <th>one_purchases</th>\n",
       "      <th>install_purchases</th>\n",
       "      <th>cash_adv</th>\n",
       "      <th>purchases_freq</th>\n",
       "      <th>one_purchases_freq</th>\n",
       "      <th>purchases_install_freq</th>\n",
       "      <th>cash_adv_freq</th>\n",
       "      <th>cash_adv_TRX</th>\n",
       "      <th>purchases_trx</th>\n",
       "      <th>credit_limit</th>\n",
       "      <th>payments</th>\n",
       "      <th>min_pay</th>\n",
       "      <th>prc_full_pay</th>\n",
       "      <th>tenure</th>\n",
       "    </tr>\n",
       "  </thead>\n",
       "  <tbody>\n",
       "    <tr>\n",
       "      <th>0</th>\n",
       "      <td>10001</td>\n",
       "      <td>40.900749</td>\n",
       "      <td>0.818182</td>\n",
       "      <td>95.40</td>\n",
       "      <td>0.00</td>\n",
       "      <td>95.4</td>\n",
       "      <td>0.000000</td>\n",
       "      <td>0.166667</td>\n",
       "      <td>0.000000</td>\n",
       "      <td>0.083333</td>\n",
       "      <td>0.000000</td>\n",
       "      <td>0</td>\n",
       "      <td>2</td>\n",
       "      <td>1000.0</td>\n",
       "      <td>201.802084</td>\n",
       "      <td>139.509787</td>\n",
       "      <td>0.000000</td>\n",
       "      <td>12</td>\n",
       "    </tr>\n",
       "    <tr>\n",
       "      <th>1</th>\n",
       "      <td>10002</td>\n",
       "      <td>3202.467416</td>\n",
       "      <td>0.909091</td>\n",
       "      <td>0.00</td>\n",
       "      <td>0.00</td>\n",
       "      <td>0.0</td>\n",
       "      <td>6442.945483</td>\n",
       "      <td>0.000000</td>\n",
       "      <td>0.000000</td>\n",
       "      <td>0.000000</td>\n",
       "      <td>0.250000</td>\n",
       "      <td>4</td>\n",
       "      <td>0</td>\n",
       "      <td>7000.0</td>\n",
       "      <td>4103.032597</td>\n",
       "      <td>1072.340217</td>\n",
       "      <td>0.222222</td>\n",
       "      <td>12</td>\n",
       "    </tr>\n",
       "    <tr>\n",
       "      <th>2</th>\n",
       "      <td>10003</td>\n",
       "      <td>2495.148862</td>\n",
       "      <td>1.000000</td>\n",
       "      <td>773.17</td>\n",
       "      <td>773.17</td>\n",
       "      <td>0.0</td>\n",
       "      <td>0.000000</td>\n",
       "      <td>1.000000</td>\n",
       "      <td>1.000000</td>\n",
       "      <td>0.000000</td>\n",
       "      <td>0.000000</td>\n",
       "      <td>0</td>\n",
       "      <td>12</td>\n",
       "      <td>7500.0</td>\n",
       "      <td>622.066742</td>\n",
       "      <td>627.284787</td>\n",
       "      <td>0.000000</td>\n",
       "      <td>12</td>\n",
       "    </tr>\n",
       "    <tr>\n",
       "      <th>3</th>\n",
       "      <td>10004</td>\n",
       "      <td>1666.670542</td>\n",
       "      <td>0.636364</td>\n",
       "      <td>1499.00</td>\n",
       "      <td>1499.00</td>\n",
       "      <td>0.0</td>\n",
       "      <td>205.788017</td>\n",
       "      <td>0.083333</td>\n",
       "      <td>0.083333</td>\n",
       "      <td>0.000000</td>\n",
       "      <td>0.083333</td>\n",
       "      <td>1</td>\n",
       "      <td>1</td>\n",
       "      <td>7500.0</td>\n",
       "      <td>0.000000</td>\n",
       "      <td>0.000000</td>\n",
       "      <td>0.000000</td>\n",
       "      <td>12</td>\n",
       "    </tr>\n",
       "    <tr>\n",
       "      <th>4</th>\n",
       "      <td>10005</td>\n",
       "      <td>817.714335</td>\n",
       "      <td>1.000000</td>\n",
       "      <td>16.00</td>\n",
       "      <td>16.00</td>\n",
       "      <td>0.0</td>\n",
       "      <td>0.000000</td>\n",
       "      <td>0.083333</td>\n",
       "      <td>0.083333</td>\n",
       "      <td>0.000000</td>\n",
       "      <td>0.000000</td>\n",
       "      <td>0</td>\n",
       "      <td>1</td>\n",
       "      <td>1200.0</td>\n",
       "      <td>678.334763</td>\n",
       "      <td>244.791237</td>\n",
       "      <td>0.000000</td>\n",
       "      <td>12</td>\n",
       "    </tr>\n",
       "  </tbody>\n",
       "</table>\n",
       "</div>"
      ],
      "text/plain": [
       "      id      balance  balance_freq  purchases  one_purchases  install_purchases     cash_adv  purchases_freq  one_purchases_freq  purchases_install_freq  cash_adv_freq  cash_adv_TRX  purchases_trx  credit_limit     payments      min_pay  prc_full_pay  tenure\n",
       "0  10001    40.900749      0.818182      95.40           0.00               95.4     0.000000        0.166667            0.000000                0.083333       0.000000             0              2        1000.0   201.802084   139.509787      0.000000      12\n",
       "1  10002  3202.467416      0.909091       0.00           0.00                0.0  6442.945483        0.000000            0.000000                0.000000       0.250000             4              0        7000.0  4103.032597  1072.340217      0.222222      12\n",
       "2  10003  2495.148862      1.000000     773.17         773.17                0.0     0.000000        1.000000            1.000000                0.000000       0.000000             0             12        7500.0   622.066742   627.284787      0.000000      12\n",
       "3  10004  1666.670542      0.636364    1499.00        1499.00                0.0   205.788017        0.083333            0.083333                0.000000       0.083333             1              1        7500.0     0.000000     0.000000      0.000000      12\n",
       "4  10005   817.714335      1.000000      16.00          16.00                0.0     0.000000        0.083333            0.083333                0.000000       0.000000             0              1        1200.0   678.334763   244.791237      0.000000      12"
      ]
     },
     "execution_count": 167,
     "metadata": {},
     "output_type": "execute_result"
    }
   ],
   "source": [
    "df2.head()"
   ]
  },
  {
   "cell_type": "markdown",
   "id": "1891f691",
   "metadata": {},
   "source": [
    "# 3.0 Feature Filtering"
   ]
  },
  {
   "cell_type": "code",
   "execution_count": 169,
   "id": "c35fcfb0",
   "metadata": {
    "ExecuteTime": {
     "end_time": "2023-01-12T14:53:49.351533Z",
     "start_time": "2023-01-12T14:53:49.347912Z"
    }
   },
   "outputs": [],
   "source": [
    "df3 = df2.copy()"
   ]
  },
  {
   "cell_type": "markdown",
   "id": "7ceceba9",
   "metadata": {},
   "source": [
    "# 4.0 Exploratory Data Analysis"
   ]
  },
  {
   "cell_type": "code",
   "execution_count": 170,
   "id": "78f4cd14",
   "metadata": {
    "ExecuteTime": {
     "end_time": "2023-01-12T14:54:17.017572Z",
     "start_time": "2023-01-12T14:54:17.013977Z"
    }
   },
   "outputs": [],
   "source": [
    "df4 = df3.copy()"
   ]
  },
  {
   "cell_type": "markdown",
   "id": "dc6a88ad",
   "metadata": {
    "ExecuteTime": {
     "end_time": "2023-01-12T14:53:22.351841Z",
     "start_time": "2023-01-12T14:53:22.349203Z"
    }
   },
   "source": [
    "# 5.0 Data Preparation"
   ]
  },
  {
   "cell_type": "code",
   "execution_count": 176,
   "id": "4a83fc48",
   "metadata": {
    "ExecuteTime": {
     "end_time": "2023-01-12T18:35:27.514988Z",
     "start_time": "2023-01-12T18:35:27.507501Z"
    }
   },
   "outputs": [],
   "source": [
    "df5 = df4.copy()"
   ]
  },
  {
   "cell_type": "markdown",
   "id": "4a725581",
   "metadata": {},
   "source": [
    "# 6.0 Feature Selection"
   ]
  },
  {
   "cell_type": "code",
   "execution_count": 180,
   "id": "87dd62ce",
   "metadata": {
    "ExecuteTime": {
     "end_time": "2023-01-12T18:37:17.548531Z",
     "start_time": "2023-01-12T18:37:17.544900Z"
    }
   },
   "outputs": [],
   "source": [
    "df6 = df5.copy()"
   ]
  },
  {
   "cell_type": "markdown",
   "id": "be123be1",
   "metadata": {},
   "source": [
    "# 7.0 Fine Tunning Hyperparameter"
   ]
  },
  {
   "cell_type": "code",
   "execution_count": 190,
   "id": "ef0678c4",
   "metadata": {
    "ExecuteTime": {
     "end_time": "2023-01-12T19:26:42.494366Z",
     "start_time": "2023-01-12T19:26:42.487472Z"
    }
   },
   "outputs": [],
   "source": [
    "df7 = df6.copy()\n",
    "\n",
    "\n",
    "x = df7.drop( columns=['id'] )"
   ]
  },
  {
   "cell_type": "code",
   "execution_count": null,
   "id": "33ef002c",
   "metadata": {},
   "outputs": [],
   "source": []
  }
 ],
 "metadata": {
  "kernelspec": {
   "display_name": "Python 3 (ipykernel)",
   "language": "python",
   "name": "python3"
  },
  "language_info": {
   "codemirror_mode": {
    "name": "ipython",
    "version": 3
   },
   "file_extension": ".py",
   "mimetype": "text/x-python",
   "name": "python",
   "nbconvert_exporter": "python",
   "pygments_lexer": "ipython3",
   "version": "3.9.15"
  }
 },
 "nbformat": 4,
 "nbformat_minor": 5
}
