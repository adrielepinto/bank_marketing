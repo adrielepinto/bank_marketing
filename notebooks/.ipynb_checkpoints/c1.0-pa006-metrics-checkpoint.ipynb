{
 "cells": [
  {
   "cell_type": "markdown",
   "id": "f8c0dc8a",
   "metadata": {
    "heading_collapsed": true,
    "hide_input": false
   },
   "source": [
    "# PA006 - Bank Marketing  Strategy"
   ]
  },
  {
   "cell_type": "markdown",
   "id": "f5da0418",
   "metadata": {
    "ExecuteTime": {
     "end_time": "2023-01-16T14:14:48.677569Z",
     "start_time": "2023-01-16T14:14:48.663739Z"
    }
   },
   "source": [
    "# Solution Planning ( IOT )"
   ]
  },
  {
   "cell_type": "markdown",
   "id": "8f738ff3",
   "metadata": {},
   "source": [
    "## Imput"
   ]
  },
  {
   "cell_type": "markdown",
   "id": "48a29fa9",
   "metadata": {},
   "source": [
    " I have been as a Data Scientis Consultant to build a data product that create a customers segmentattion which will handle the marketing strategy and the following expected results from consultancy:\n",
    "        \n",
    "        \n",
    "- 1. Create customer segmentation based on clear selection criteria.\n",
    "- 2. Make customer segmentation accessible to the operations team.\n",
    "- 3. Teach the operations team how to use the solution.\n",
    "- 4. Transfer knowledge to international bank Data Scientists.\n",
    "- 5. Recommend 3 business levers for each customer segment. \n"
   ]
  },
  {
   "cell_type": "markdown",
   "id": "87476e90",
   "metadata": {},
   "source": [
    "## Output"
   ]
  },
  {
   "cell_type": "markdown",
   "id": "99bd3ebe",
   "metadata": {},
   "source": [
    "- Tools:\n",
    "    - Jupyter Notebook\n",
    "    - Metabase\n",
    "    - Streamlit\n",
    "    \n",
    "    \n",
    "- URL to the Operation team make tests;\n",
    "- Download of selected data;\n"
   ]
  },
  {
   "cell_type": "markdown",
   "id": "59e7b27a",
   "metadata": {
    "ExecuteTime": {
     "end_time": "2023-01-16T14:37:23.823872Z",
     "start_time": "2023-01-16T14:37:23.818225Z"
    }
   },
   "source": [
    "# Tasks"
   ]
  },
  {
   "cell_type": "markdown",
   "id": "f10c1f18",
   "metadata": {},
   "source": [
    "- Data Descriptive:\n",
    "    - NA's replace\n",
    "    - Outliers Detection\n",
    "    \n",
    "    \n",
    "- EDA:\n",
    "    - Univariate Analysis\n",
    "    - Bivariate Analysis\n",
    "    - Outliers Detection\n",
    "    - Feature Selection\n",
    "    - Study of Space\n",
    "    - Embeding Definition\n",
    "    \n",
    "- Machine Learning Training:\n",
    "    - Performance Analysis\n",
    "    - Clustering Analysis\n",
    "    - Define clustering number\n",
    "    \n",
    "- EDA - Insights:\n",
    "    - Expain the segmentattion characters\n",
    "    \n",
    "- Table to store the clustered clients\n",
    "- Creat the production script\n",
    "\n",
    "\n",
    "- AWS Architecture:\n",
    "    - S3 for store the data\n",
    "    - EC2 for store the ETL and visualization tool.\n",
    "    - DB to store the table \n",
    "    - Cronjob\n",
    "    - Papermill"
   ]
  },
  {
   "cell_type": "markdown",
   "id": "1aa7f8be",
   "metadata": {},
   "source": [
    "# 0.1 Imports"
   ]
  },
  {
   "cell_type": "code",
   "execution_count": 3,
   "id": "76da0cdd",
   "metadata": {
    "ExecuteTime": {
     "end_time": "2023-01-16T15:13:23.920493Z",
     "start_time": "2023-01-16T15:13:23.915777Z"
    }
   },
   "outputs": [],
   "source": [
    "import inflection\n",
    "\n",
    "import numpy             as np\n",
    "import pandas            as pd\n",
    "import seaborn           as sns\n",
    "import matplotlib.pyplot as plt\n",
    "\n",
    "from sklearn import cluster as c\n",
    "from sklearn import metrics as m\n",
    "\n",
    "from IPython.core.display        import HTML\n",
    "from bayes_opt                   import BayesianOptimization\n",
    "from bayes_opt                   import UtilityFunction\n",
    "from matplotlib                  import gridspec\n"
   ]
  },
  {
   "cell_type": "markdown",
   "id": "3af39d2b",
   "metadata": {},
   "source": [
    "# 0.2 Helper functions"
   ]
  },
  {
   "cell_type": "code",
   "execution_count": 4,
   "id": "253e9265",
   "metadata": {
    "ExecuteTime": {
     "end_time": "2023-01-16T15:13:24.347887Z",
     "start_time": "2023-01-16T15:13:24.309108Z"
    }
   },
   "outputs": [
    {
     "data": {
      "text/html": [
       "<style>.container { width:100% !important; }</style>"
      ],
      "text/plain": [
       "<IPython.core.display.HTML object>"
      ]
     },
     "metadata": {},
     "output_type": "display_data"
    },
    {
     "name": "stdout",
     "output_type": "stream",
     "text": [
      "%pylab is deprecated, use %matplotlib inline and import the required libraries.\n",
      "Populating the interactive namespace from numpy and matplotlib\n"
     ]
    },
    {
     "data": {
      "text/html": [
       "<style>.container { width:100% !important; }</style>"
      ],
      "text/plain": [
       "<IPython.core.display.HTML object>"
      ]
     },
     "metadata": {},
     "output_type": "display_data"
    }
   ],
   "source": [
    "def jupyter_settings(): \n",
    "    %matplotlib inline \n",
    "    #%matplotlib notebook\n",
    "    %pylab inline\n",
    "    \n",
    "    plt.style.use('bmh')\n",
    "    plt.rcParams['figure.figsize'] = [25, 12]\n",
    "    plt.rcParams['font.size'] = 24\n",
    "    \n",
    "     \n",
    "    display( HTML( '<style>.container { width:100% !important; }</style>') )\n",
    "    pd.options.display.max_columns = None\n",
    "    pd.options.display.max_rows = None\n",
    "    pd.set_option ('display.expand_frame_repr', False)\n",
    "    \n",
    "    sns.set()\n",
    "\n",
    "%matplotlib inline \n",
    "%matplotlib notebook\n",
    "\n",
    "plt.style.use('bmh')\n",
    "plt.rcParams['figure.figsize'] = [25, 12]\n",
    "plt.rcParams['font.size'] = 24\n",
    "\n",
    "\n",
    "display( HTML( '<style>.container { width:100% !important; }</style>') )\n",
    "pd.options.display.max_columns = None\n",
    "pd.options.display.max_rows = None\n",
    "pd.set_option ('display.expand_frame_repr', False)\n",
    "\n",
    "sns.set()\n",
    "\n",
    "jupyter_settings()\n"
   ]
  },
  {
   "cell_type": "markdown",
   "id": "82f67e86",
   "metadata": {},
   "source": [
    "# 1.0 Data Discriptive"
   ]
  },
  {
   "cell_type": "markdown",
   "id": "36077a3a",
   "metadata": {},
   "source": [
    "## 1.1 Load dataset"
   ]
  },
  {
   "cell_type": "code",
   "execution_count": 37,
   "id": "cdb35500",
   "metadata": {
    "ExecuteTime": {
     "end_time": "2023-01-16T15:32:54.344267Z",
     "start_time": "2023-01-16T15:32:54.314949Z"
    }
   },
   "outputs": [],
   "source": [
    "df1 = pd.read_csv( '/Users/adriele/Documents/repos/pa006/dataset/bank.csv')"
   ]
  },
  {
   "cell_type": "markdown",
   "id": "b2d6f721",
   "metadata": {},
   "source": [
    "## 1.2 Rename columns"
   ]
  },
  {
   "cell_type": "code",
   "execution_count": 38,
   "id": "d35cd667",
   "metadata": {
    "ExecuteTime": {
     "end_time": "2023-01-16T15:32:55.106245Z",
     "start_time": "2023-01-16T15:32:55.101849Z"
    }
   },
   "outputs": [
    {
     "data": {
      "text/plain": [
       "Index(['CUST_ID', 'BALANCE', 'BALANCE_FREQUENCY', 'PURCHASES',\n",
       "       'ONEOFF_PURCHASES', 'INSTALLMENTS_PURCHASES', 'CASH_ADVANCE',\n",
       "       'PURCHASES_FREQUENCY', 'ONEOFF_PURCHASES_FREQUENCY',\n",
       "       'PURCHASES_INSTALLMENTS_FREQUENCY', 'CASH_ADVANCE_FREQUENCY',\n",
       "       'CASH_ADVANCE_TRX', 'PURCHASES_TRX', 'CREDIT_LIMIT', 'PAYMENTS',\n",
       "       'MINIMUM_PAYMENTS', 'PRC_FULL_PAYMENT', 'TENURE'],\n",
       "      dtype='object')"
      ]
     },
     "execution_count": 38,
     "metadata": {},
     "output_type": "execute_result"
    }
   ],
   "source": [
    "df1.columns"
   ]
  },
  {
   "cell_type": "code",
   "execution_count": 39,
   "id": "6830c9ac",
   "metadata": {
    "ExecuteTime": {
     "end_time": "2023-01-16T15:32:55.337827Z",
     "start_time": "2023-01-16T15:32:55.333871Z"
    }
   },
   "outputs": [],
   "source": [
    "df1.columns = [ 'id', 'balance', 'balance_freq', 'purchases','one_purchases', 'install_purchases', 'cash_adv',\n",
    "       'purchases_freq', 'one_purchases_freq', 'purchases_install_freq', 'cash_adv_freq',\n",
    "       'cash_adv_TRX', 'purchases_trx', 'credit_limit', 'payments','min_pay', 'prc_full_pay', 'tenure']\n",
    "\n"
   ]
  },
  {
   "cell_type": "code",
   "execution_count": 40,
   "id": "31934ce7",
   "metadata": {
    "ExecuteTime": {
     "end_time": "2023-01-16T15:32:55.574513Z",
     "start_time": "2023-01-16T15:32:55.542889Z"
    }
   },
   "outputs": [
    {
     "data": {
      "text/html": [
       "<div>\n",
       "<style scoped>\n",
       "    .dataframe tbody tr th:only-of-type {\n",
       "        vertical-align: middle;\n",
       "    }\n",
       "\n",
       "    .dataframe tbody tr th {\n",
       "        vertical-align: top;\n",
       "    }\n",
       "\n",
       "    .dataframe thead th {\n",
       "        text-align: right;\n",
       "    }\n",
       "</style>\n",
       "<table border=\"1\" class=\"dataframe\">\n",
       "  <thead>\n",
       "    <tr style=\"text-align: right;\">\n",
       "      <th></th>\n",
       "      <th>id</th>\n",
       "      <th>balance</th>\n",
       "      <th>balance_freq</th>\n",
       "      <th>purchases</th>\n",
       "      <th>one_purchases</th>\n",
       "      <th>install_purchases</th>\n",
       "      <th>cash_adv</th>\n",
       "      <th>purchases_freq</th>\n",
       "      <th>one_purchases_freq</th>\n",
       "      <th>purchases_install_freq</th>\n",
       "      <th>cash_adv_freq</th>\n",
       "      <th>cash_adv_TRX</th>\n",
       "      <th>purchases_trx</th>\n",
       "      <th>credit_limit</th>\n",
       "      <th>payments</th>\n",
       "      <th>min_pay</th>\n",
       "      <th>prc_full_pay</th>\n",
       "      <th>tenure</th>\n",
       "    </tr>\n",
       "  </thead>\n",
       "  <tbody>\n",
       "    <tr>\n",
       "      <th>0</th>\n",
       "      <td>C10001</td>\n",
       "      <td>40.900749</td>\n",
       "      <td>0.818182</td>\n",
       "      <td>95.40</td>\n",
       "      <td>0.00</td>\n",
       "      <td>95.40</td>\n",
       "      <td>0.000000</td>\n",
       "      <td>0.166667</td>\n",
       "      <td>0.000000</td>\n",
       "      <td>0.083333</td>\n",
       "      <td>0.000000</td>\n",
       "      <td>0</td>\n",
       "      <td>2</td>\n",
       "      <td>1000.0</td>\n",
       "      <td>201.802084</td>\n",
       "      <td>139.509787</td>\n",
       "      <td>0.000000</td>\n",
       "      <td>12</td>\n",
       "    </tr>\n",
       "    <tr>\n",
       "      <th>1</th>\n",
       "      <td>C10002</td>\n",
       "      <td>3202.467416</td>\n",
       "      <td>0.909091</td>\n",
       "      <td>0.00</td>\n",
       "      <td>0.00</td>\n",
       "      <td>0.00</td>\n",
       "      <td>6442.945483</td>\n",
       "      <td>0.000000</td>\n",
       "      <td>0.000000</td>\n",
       "      <td>0.000000</td>\n",
       "      <td>0.250000</td>\n",
       "      <td>4</td>\n",
       "      <td>0</td>\n",
       "      <td>7000.0</td>\n",
       "      <td>4103.032597</td>\n",
       "      <td>1072.340217</td>\n",
       "      <td>0.222222</td>\n",
       "      <td>12</td>\n",
       "    </tr>\n",
       "    <tr>\n",
       "      <th>2</th>\n",
       "      <td>C10003</td>\n",
       "      <td>2495.148862</td>\n",
       "      <td>1.000000</td>\n",
       "      <td>773.17</td>\n",
       "      <td>773.17</td>\n",
       "      <td>0.00</td>\n",
       "      <td>0.000000</td>\n",
       "      <td>1.000000</td>\n",
       "      <td>1.000000</td>\n",
       "      <td>0.000000</td>\n",
       "      <td>0.000000</td>\n",
       "      <td>0</td>\n",
       "      <td>12</td>\n",
       "      <td>7500.0</td>\n",
       "      <td>622.066742</td>\n",
       "      <td>627.284787</td>\n",
       "      <td>0.000000</td>\n",
       "      <td>12</td>\n",
       "    </tr>\n",
       "    <tr>\n",
       "      <th>3</th>\n",
       "      <td>C10004</td>\n",
       "      <td>1666.670542</td>\n",
       "      <td>0.636364</td>\n",
       "      <td>1499.00</td>\n",
       "      <td>1499.00</td>\n",
       "      <td>0.00</td>\n",
       "      <td>205.788017</td>\n",
       "      <td>0.083333</td>\n",
       "      <td>0.083333</td>\n",
       "      <td>0.000000</td>\n",
       "      <td>0.083333</td>\n",
       "      <td>1</td>\n",
       "      <td>1</td>\n",
       "      <td>7500.0</td>\n",
       "      <td>0.000000</td>\n",
       "      <td>NaN</td>\n",
       "      <td>0.000000</td>\n",
       "      <td>12</td>\n",
       "    </tr>\n",
       "    <tr>\n",
       "      <th>4</th>\n",
       "      <td>C10005</td>\n",
       "      <td>817.714335</td>\n",
       "      <td>1.000000</td>\n",
       "      <td>16.00</td>\n",
       "      <td>16.00</td>\n",
       "      <td>0.00</td>\n",
       "      <td>0.000000</td>\n",
       "      <td>0.083333</td>\n",
       "      <td>0.083333</td>\n",
       "      <td>0.000000</td>\n",
       "      <td>0.000000</td>\n",
       "      <td>0</td>\n",
       "      <td>1</td>\n",
       "      <td>1200.0</td>\n",
       "      <td>678.334763</td>\n",
       "      <td>244.791237</td>\n",
       "      <td>0.000000</td>\n",
       "      <td>12</td>\n",
       "    </tr>\n",
       "    <tr>\n",
       "      <th>5</th>\n",
       "      <td>C10006</td>\n",
       "      <td>1809.828751</td>\n",
       "      <td>1.000000</td>\n",
       "      <td>1333.28</td>\n",
       "      <td>0.00</td>\n",
       "      <td>1333.28</td>\n",
       "      <td>0.000000</td>\n",
       "      <td>0.666667</td>\n",
       "      <td>0.000000</td>\n",
       "      <td>0.583333</td>\n",
       "      <td>0.000000</td>\n",
       "      <td>0</td>\n",
       "      <td>8</td>\n",
       "      <td>1800.0</td>\n",
       "      <td>1400.057770</td>\n",
       "      <td>2407.246035</td>\n",
       "      <td>0.000000</td>\n",
       "      <td>12</td>\n",
       "    </tr>\n",
       "    <tr>\n",
       "      <th>6</th>\n",
       "      <td>C10007</td>\n",
       "      <td>627.260806</td>\n",
       "      <td>1.000000</td>\n",
       "      <td>7091.01</td>\n",
       "      <td>6402.63</td>\n",
       "      <td>688.38</td>\n",
       "      <td>0.000000</td>\n",
       "      <td>1.000000</td>\n",
       "      <td>1.000000</td>\n",
       "      <td>1.000000</td>\n",
       "      <td>0.000000</td>\n",
       "      <td>0</td>\n",
       "      <td>64</td>\n",
       "      <td>13500.0</td>\n",
       "      <td>6354.314328</td>\n",
       "      <td>198.065894</td>\n",
       "      <td>1.000000</td>\n",
       "      <td>12</td>\n",
       "    </tr>\n",
       "    <tr>\n",
       "      <th>7</th>\n",
       "      <td>C10008</td>\n",
       "      <td>1823.652743</td>\n",
       "      <td>1.000000</td>\n",
       "      <td>436.20</td>\n",
       "      <td>0.00</td>\n",
       "      <td>436.20</td>\n",
       "      <td>0.000000</td>\n",
       "      <td>1.000000</td>\n",
       "      <td>0.000000</td>\n",
       "      <td>1.000000</td>\n",
       "      <td>0.000000</td>\n",
       "      <td>0</td>\n",
       "      <td>12</td>\n",
       "      <td>2300.0</td>\n",
       "      <td>679.065082</td>\n",
       "      <td>532.033990</td>\n",
       "      <td>0.000000</td>\n",
       "      <td>12</td>\n",
       "    </tr>\n",
       "    <tr>\n",
       "      <th>8</th>\n",
       "      <td>C10009</td>\n",
       "      <td>1014.926473</td>\n",
       "      <td>1.000000</td>\n",
       "      <td>861.49</td>\n",
       "      <td>661.49</td>\n",
       "      <td>200.00</td>\n",
       "      <td>0.000000</td>\n",
       "      <td>0.333333</td>\n",
       "      <td>0.083333</td>\n",
       "      <td>0.250000</td>\n",
       "      <td>0.000000</td>\n",
       "      <td>0</td>\n",
       "      <td>5</td>\n",
       "      <td>7000.0</td>\n",
       "      <td>688.278568</td>\n",
       "      <td>311.963409</td>\n",
       "      <td>0.000000</td>\n",
       "      <td>12</td>\n",
       "    </tr>\n",
       "    <tr>\n",
       "      <th>9</th>\n",
       "      <td>C10010</td>\n",
       "      <td>152.225975</td>\n",
       "      <td>0.545455</td>\n",
       "      <td>1281.60</td>\n",
       "      <td>1281.60</td>\n",
       "      <td>0.00</td>\n",
       "      <td>0.000000</td>\n",
       "      <td>0.166667</td>\n",
       "      <td>0.166667</td>\n",
       "      <td>0.000000</td>\n",
       "      <td>0.000000</td>\n",
       "      <td>0</td>\n",
       "      <td>3</td>\n",
       "      <td>11000.0</td>\n",
       "      <td>1164.770591</td>\n",
       "      <td>100.302262</td>\n",
       "      <td>0.000000</td>\n",
       "      <td>12</td>\n",
       "    </tr>\n",
       "    <tr>\n",
       "      <th>10</th>\n",
       "      <td>C10011</td>\n",
       "      <td>1293.124939</td>\n",
       "      <td>1.000000</td>\n",
       "      <td>920.12</td>\n",
       "      <td>0.00</td>\n",
       "      <td>920.12</td>\n",
       "      <td>0.000000</td>\n",
       "      <td>1.000000</td>\n",
       "      <td>0.000000</td>\n",
       "      <td>1.000000</td>\n",
       "      <td>0.000000</td>\n",
       "      <td>0</td>\n",
       "      <td>12</td>\n",
       "      <td>1200.0</td>\n",
       "      <td>1083.301007</td>\n",
       "      <td>2172.697765</td>\n",
       "      <td>0.000000</td>\n",
       "      <td>12</td>\n",
       "    </tr>\n",
       "    <tr>\n",
       "      <th>11</th>\n",
       "      <td>C10012</td>\n",
       "      <td>630.794744</td>\n",
       "      <td>0.818182</td>\n",
       "      <td>1492.18</td>\n",
       "      <td>1492.18</td>\n",
       "      <td>0.00</td>\n",
       "      <td>0.000000</td>\n",
       "      <td>0.250000</td>\n",
       "      <td>0.250000</td>\n",
       "      <td>0.000000</td>\n",
       "      <td>0.000000</td>\n",
       "      <td>0</td>\n",
       "      <td>6</td>\n",
       "      <td>2000.0</td>\n",
       "      <td>705.618627</td>\n",
       "      <td>155.549069</td>\n",
       "      <td>0.000000</td>\n",
       "      <td>12</td>\n",
       "    </tr>\n",
       "    <tr>\n",
       "      <th>12</th>\n",
       "      <td>C10013</td>\n",
       "      <td>1516.928620</td>\n",
       "      <td>1.000000</td>\n",
       "      <td>3217.99</td>\n",
       "      <td>2500.23</td>\n",
       "      <td>717.76</td>\n",
       "      <td>0.000000</td>\n",
       "      <td>1.000000</td>\n",
       "      <td>0.250000</td>\n",
       "      <td>0.916667</td>\n",
       "      <td>0.000000</td>\n",
       "      <td>0</td>\n",
       "      <td>26</td>\n",
       "      <td>3000.0</td>\n",
       "      <td>608.263689</td>\n",
       "      <td>490.207013</td>\n",
       "      <td>0.250000</td>\n",
       "      <td>12</td>\n",
       "    </tr>\n",
       "    <tr>\n",
       "      <th>13</th>\n",
       "      <td>C10014</td>\n",
       "      <td>921.693369</td>\n",
       "      <td>1.000000</td>\n",
       "      <td>2137.93</td>\n",
       "      <td>419.96</td>\n",
       "      <td>1717.97</td>\n",
       "      <td>0.000000</td>\n",
       "      <td>0.750000</td>\n",
       "      <td>0.166667</td>\n",
       "      <td>0.750000</td>\n",
       "      <td>0.000000</td>\n",
       "      <td>0</td>\n",
       "      <td>26</td>\n",
       "      <td>7500.0</td>\n",
       "      <td>1655.891435</td>\n",
       "      <td>251.137986</td>\n",
       "      <td>0.083333</td>\n",
       "      <td>12</td>\n",
       "    </tr>\n",
       "    <tr>\n",
       "      <th>14</th>\n",
       "      <td>C10015</td>\n",
       "      <td>2772.772734</td>\n",
       "      <td>1.000000</td>\n",
       "      <td>0.00</td>\n",
       "      <td>0.00</td>\n",
       "      <td>0.00</td>\n",
       "      <td>346.811390</td>\n",
       "      <td>0.000000</td>\n",
       "      <td>0.000000</td>\n",
       "      <td>0.000000</td>\n",
       "      <td>0.083333</td>\n",
       "      <td>1</td>\n",
       "      <td>0</td>\n",
       "      <td>3000.0</td>\n",
       "      <td>805.647974</td>\n",
       "      <td>989.962866</td>\n",
       "      <td>0.000000</td>\n",
       "      <td>12</td>\n",
       "    </tr>\n",
       "    <tr>\n",
       "      <th>15</th>\n",
       "      <td>C10016</td>\n",
       "      <td>6886.213231</td>\n",
       "      <td>1.000000</td>\n",
       "      <td>1611.70</td>\n",
       "      <td>0.00</td>\n",
       "      <td>1611.70</td>\n",
       "      <td>2301.491267</td>\n",
       "      <td>0.500000</td>\n",
       "      <td>0.000000</td>\n",
       "      <td>0.500000</td>\n",
       "      <td>0.166667</td>\n",
       "      <td>4</td>\n",
       "      <td>11</td>\n",
       "      <td>8000.0</td>\n",
       "      <td>1993.439277</td>\n",
       "      <td>2109.906490</td>\n",
       "      <td>0.000000</td>\n",
       "      <td>12</td>\n",
       "    </tr>\n",
       "    <tr>\n",
       "      <th>16</th>\n",
       "      <td>C10017</td>\n",
       "      <td>2072.074354</td>\n",
       "      <td>0.875000</td>\n",
       "      <td>0.00</td>\n",
       "      <td>0.00</td>\n",
       "      <td>0.00</td>\n",
       "      <td>2784.274703</td>\n",
       "      <td>0.000000</td>\n",
       "      <td>0.000000</td>\n",
       "      <td>0.000000</td>\n",
       "      <td>0.250000</td>\n",
       "      <td>3</td>\n",
       "      <td>0</td>\n",
       "      <td>3000.0</td>\n",
       "      <td>391.974562</td>\n",
       "      <td>376.579631</td>\n",
       "      <td>0.000000</td>\n",
       "      <td>8</td>\n",
       "    </tr>\n",
       "    <tr>\n",
       "      <th>17</th>\n",
       "      <td>C10018</td>\n",
       "      <td>41.089489</td>\n",
       "      <td>0.454545</td>\n",
       "      <td>519.00</td>\n",
       "      <td>0.00</td>\n",
       "      <td>519.00</td>\n",
       "      <td>0.000000</td>\n",
       "      <td>0.416667</td>\n",
       "      <td>0.000000</td>\n",
       "      <td>0.333333</td>\n",
       "      <td>0.000000</td>\n",
       "      <td>0</td>\n",
       "      <td>8</td>\n",
       "      <td>2500.0</td>\n",
       "      <td>254.590662</td>\n",
       "      <td>73.203221</td>\n",
       "      <td>0.250000</td>\n",
       "      <td>12</td>\n",
       "    </tr>\n",
       "    <tr>\n",
       "      <th>18</th>\n",
       "      <td>C10019</td>\n",
       "      <td>1989.072228</td>\n",
       "      <td>1.000000</td>\n",
       "      <td>504.35</td>\n",
       "      <td>166.00</td>\n",
       "      <td>338.35</td>\n",
       "      <td>0.000000</td>\n",
       "      <td>0.666667</td>\n",
       "      <td>0.083333</td>\n",
       "      <td>0.583333</td>\n",
       "      <td>0.000000</td>\n",
       "      <td>0</td>\n",
       "      <td>9</td>\n",
       "      <td>13000.0</td>\n",
       "      <td>1720.837373</td>\n",
       "      <td>744.613395</td>\n",
       "      <td>0.000000</td>\n",
       "      <td>12</td>\n",
       "    </tr>\n",
       "    <tr>\n",
       "      <th>19</th>\n",
       "      <td>C10020</td>\n",
       "      <td>3577.970933</td>\n",
       "      <td>1.000000</td>\n",
       "      <td>398.64</td>\n",
       "      <td>0.00</td>\n",
       "      <td>398.64</td>\n",
       "      <td>0.000000</td>\n",
       "      <td>1.000000</td>\n",
       "      <td>0.000000</td>\n",
       "      <td>1.000000</td>\n",
       "      <td>0.000000</td>\n",
       "      <td>0</td>\n",
       "      <td>12</td>\n",
       "      <td>4000.0</td>\n",
       "      <td>1053.980464</td>\n",
       "      <td>12465.549380</td>\n",
       "      <td>0.000000</td>\n",
       "      <td>12</td>\n",
       "    </tr>\n",
       "  </tbody>\n",
       "</table>\n",
       "</div>"
      ],
      "text/plain": [
       "        id      balance  balance_freq  purchases  one_purchases  install_purchases     cash_adv  purchases_freq  one_purchases_freq  purchases_install_freq  cash_adv_freq  cash_adv_TRX  purchases_trx  credit_limit     payments       min_pay  prc_full_pay  tenure\n",
       "0   C10001    40.900749      0.818182      95.40           0.00              95.40     0.000000        0.166667            0.000000                0.083333       0.000000             0              2        1000.0   201.802084    139.509787      0.000000      12\n",
       "1   C10002  3202.467416      0.909091       0.00           0.00               0.00  6442.945483        0.000000            0.000000                0.000000       0.250000             4              0        7000.0  4103.032597   1072.340217      0.222222      12\n",
       "2   C10003  2495.148862      1.000000     773.17         773.17               0.00     0.000000        1.000000            1.000000                0.000000       0.000000             0             12        7500.0   622.066742    627.284787      0.000000      12\n",
       "3   C10004  1666.670542      0.636364    1499.00        1499.00               0.00   205.788017        0.083333            0.083333                0.000000       0.083333             1              1        7500.0     0.000000           NaN      0.000000      12\n",
       "4   C10005   817.714335      1.000000      16.00          16.00               0.00     0.000000        0.083333            0.083333                0.000000       0.000000             0              1        1200.0   678.334763    244.791237      0.000000      12\n",
       "5   C10006  1809.828751      1.000000    1333.28           0.00            1333.28     0.000000        0.666667            0.000000                0.583333       0.000000             0              8        1800.0  1400.057770   2407.246035      0.000000      12\n",
       "6   C10007   627.260806      1.000000    7091.01        6402.63             688.38     0.000000        1.000000            1.000000                1.000000       0.000000             0             64       13500.0  6354.314328    198.065894      1.000000      12\n",
       "7   C10008  1823.652743      1.000000     436.20           0.00             436.20     0.000000        1.000000            0.000000                1.000000       0.000000             0             12        2300.0   679.065082    532.033990      0.000000      12\n",
       "8   C10009  1014.926473      1.000000     861.49         661.49             200.00     0.000000        0.333333            0.083333                0.250000       0.000000             0              5        7000.0   688.278568    311.963409      0.000000      12\n",
       "9   C10010   152.225975      0.545455    1281.60        1281.60               0.00     0.000000        0.166667            0.166667                0.000000       0.000000             0              3       11000.0  1164.770591    100.302262      0.000000      12\n",
       "10  C10011  1293.124939      1.000000     920.12           0.00             920.12     0.000000        1.000000            0.000000                1.000000       0.000000             0             12        1200.0  1083.301007   2172.697765      0.000000      12\n",
       "11  C10012   630.794744      0.818182    1492.18        1492.18               0.00     0.000000        0.250000            0.250000                0.000000       0.000000             0              6        2000.0   705.618627    155.549069      0.000000      12\n",
       "12  C10013  1516.928620      1.000000    3217.99        2500.23             717.76     0.000000        1.000000            0.250000                0.916667       0.000000             0             26        3000.0   608.263689    490.207013      0.250000      12\n",
       "13  C10014   921.693369      1.000000    2137.93         419.96            1717.97     0.000000        0.750000            0.166667                0.750000       0.000000             0             26        7500.0  1655.891435    251.137986      0.083333      12\n",
       "14  C10015  2772.772734      1.000000       0.00           0.00               0.00   346.811390        0.000000            0.000000                0.000000       0.083333             1              0        3000.0   805.647974    989.962866      0.000000      12\n",
       "15  C10016  6886.213231      1.000000    1611.70           0.00            1611.70  2301.491267        0.500000            0.000000                0.500000       0.166667             4             11        8000.0  1993.439277   2109.906490      0.000000      12\n",
       "16  C10017  2072.074354      0.875000       0.00           0.00               0.00  2784.274703        0.000000            0.000000                0.000000       0.250000             3              0        3000.0   391.974562    376.579631      0.000000       8\n",
       "17  C10018    41.089489      0.454545     519.00           0.00             519.00     0.000000        0.416667            0.000000                0.333333       0.000000             0              8        2500.0   254.590662     73.203221      0.250000      12\n",
       "18  C10019  1989.072228      1.000000     504.35         166.00             338.35     0.000000        0.666667            0.083333                0.583333       0.000000             0              9       13000.0  1720.837373    744.613395      0.000000      12\n",
       "19  C10020  3577.970933      1.000000     398.64           0.00             398.64     0.000000        1.000000            0.000000                1.000000       0.000000             0             12        4000.0  1053.980464  12465.549380      0.000000      12"
      ]
     },
     "execution_count": 40,
     "metadata": {},
     "output_type": "execute_result"
    }
   ],
   "source": [
    "df1.head(20)"
   ]
  },
  {
   "cell_type": "markdown",
   "id": "56c47cf8",
   "metadata": {},
   "source": [
    "## 1.3 Data Dimension"
   ]
  },
  {
   "cell_type": "code",
   "execution_count": 41,
   "id": "befe566d",
   "metadata": {
    "ExecuteTime": {
     "end_time": "2023-01-16T15:32:56.830585Z",
     "start_time": "2023-01-16T15:32:56.825277Z"
    }
   },
   "outputs": [
    {
     "name": "stdout",
     "output_type": "stream",
     "text": [
      "Number of Cols 18\n",
      "Number of Rows 8950\n"
     ]
    }
   ],
   "source": [
    "print( 'Number of Cols {}'.format( df1.shape[1] ) )\n",
    "print( 'Number of Rows {}'.format( df1.shape[0] ) )"
   ]
  },
  {
   "cell_type": "markdown",
   "id": "23f3c8be",
   "metadata": {},
   "source": [
    "## 1.4 Check NA"
   ]
  },
  {
   "cell_type": "code",
   "execution_count": 42,
   "id": "2d5be713",
   "metadata": {
    "ExecuteTime": {
     "end_time": "2023-01-16T15:32:58.032086Z",
     "start_time": "2023-01-16T15:32:58.023982Z"
    }
   },
   "outputs": [
    {
     "data": {
      "text/plain": [
       "id                          0\n",
       "balance                     0\n",
       "balance_freq                0\n",
       "purchases                   0\n",
       "one_purchases               0\n",
       "install_purchases           0\n",
       "cash_adv                    0\n",
       "purchases_freq              0\n",
       "one_purchases_freq          0\n",
       "purchases_install_freq      0\n",
       "cash_adv_freq               0\n",
       "cash_adv_TRX                0\n",
       "purchases_trx               0\n",
       "credit_limit                1\n",
       "payments                    0\n",
       "min_pay                   313\n",
       "prc_full_pay                0\n",
       "tenure                      0\n",
       "dtype: int64"
      ]
     },
     "execution_count": 42,
     "metadata": {},
     "output_type": "execute_result"
    }
   ],
   "source": [
    "df1.isna().sum()"
   ]
  },
  {
   "cell_type": "markdown",
   "id": "8d28e50e",
   "metadata": {
    "ExecuteTime": {
     "end_time": "2023-01-11T21:03:57.029042Z",
     "start_time": "2023-01-11T21:03:57.026276Z"
    }
   },
   "source": [
    "## 1.5 Replace NA"
   ]
  },
  {
   "cell_type": "code",
   "execution_count": 43,
   "id": "59df57b2",
   "metadata": {
    "ExecuteTime": {
     "end_time": "2023-01-16T15:32:59.697688Z",
     "start_time": "2023-01-16T15:32:59.689308Z"
    }
   },
   "outputs": [],
   "source": [
    "df1 = df1.dropna()"
   ]
  },
  {
   "cell_type": "code",
   "execution_count": 44,
   "id": "fc246444",
   "metadata": {
    "ExecuteTime": {
     "end_time": "2023-01-16T15:33:00.335907Z",
     "start_time": "2023-01-16T15:33:00.328449Z"
    }
   },
   "outputs": [
    {
     "data": {
      "text/plain": [
       "id                        0\n",
       "balance                   0\n",
       "balance_freq              0\n",
       "purchases                 0\n",
       "one_purchases             0\n",
       "install_purchases         0\n",
       "cash_adv                  0\n",
       "purchases_freq            0\n",
       "one_purchases_freq        0\n",
       "purchases_install_freq    0\n",
       "cash_adv_freq             0\n",
       "cash_adv_TRX              0\n",
       "purchases_trx             0\n",
       "credit_limit              0\n",
       "payments                  0\n",
       "min_pay                   0\n",
       "prc_full_pay              0\n",
       "tenure                    0\n",
       "dtype: int64"
      ]
     },
     "execution_count": 44,
     "metadata": {},
     "output_type": "execute_result"
    }
   ],
   "source": [
    "df1.isna().sum()"
   ]
  },
  {
   "cell_type": "markdown",
   "id": "a018077f",
   "metadata": {},
   "source": [
    "## 1.6 Data Types"
   ]
  },
  {
   "cell_type": "code",
   "execution_count": 45,
   "id": "42890c51",
   "metadata": {
    "ExecuteTime": {
     "end_time": "2023-01-16T15:35:03.860742Z",
     "start_time": "2023-01-16T15:35:03.855423Z"
    }
   },
   "outputs": [
    {
     "data": {
      "text/plain": [
       "id                         object\n",
       "balance                   float64\n",
       "balance_freq              float64\n",
       "purchases                 float64\n",
       "one_purchases             float64\n",
       "install_purchases         float64\n",
       "cash_adv                  float64\n",
       "purchases_freq            float64\n",
       "one_purchases_freq        float64\n",
       "purchases_install_freq    float64\n",
       "cash_adv_freq             float64\n",
       "cash_adv_TRX                int64\n",
       "purchases_trx               int64\n",
       "credit_limit              float64\n",
       "payments                  float64\n",
       "min_pay                   float64\n",
       "prc_full_pay              float64\n",
       "tenure                      int64\n",
       "dtype: object"
      ]
     },
     "execution_count": 45,
     "metadata": {},
     "output_type": "execute_result"
    }
   ],
   "source": [
    "df1.dtypes"
   ]
  },
  {
   "cell_type": "markdown",
   "id": "3f550a4a",
   "metadata": {},
   "source": [
    "# 2.0 Data Filtering"
   ]
  },
  {
   "cell_type": "code",
   "execution_count": 46,
   "id": "28ad06cc",
   "metadata": {
    "ExecuteTime": {
     "end_time": "2023-01-16T15:35:04.268765Z",
     "start_time": "2023-01-16T15:35:04.265314Z"
    }
   },
   "outputs": [],
   "source": [
    "df2 = df1.copy()"
   ]
  },
  {
   "cell_type": "code",
   "execution_count": 47,
   "id": "a267d368",
   "metadata": {
    "ExecuteTime": {
     "end_time": "2023-01-16T15:35:04.478147Z",
     "start_time": "2023-01-16T15:35:04.459896Z"
    }
   },
   "outputs": [
    {
     "data": {
      "text/html": [
       "<div>\n",
       "<style scoped>\n",
       "    .dataframe tbody tr th:only-of-type {\n",
       "        vertical-align: middle;\n",
       "    }\n",
       "\n",
       "    .dataframe tbody tr th {\n",
       "        vertical-align: top;\n",
       "    }\n",
       "\n",
       "    .dataframe thead th {\n",
       "        text-align: right;\n",
       "    }\n",
       "</style>\n",
       "<table border=\"1\" class=\"dataframe\">\n",
       "  <thead>\n",
       "    <tr style=\"text-align: right;\">\n",
       "      <th></th>\n",
       "      <th>id</th>\n",
       "      <th>balance</th>\n",
       "      <th>balance_freq</th>\n",
       "      <th>purchases</th>\n",
       "      <th>one_purchases</th>\n",
       "      <th>install_purchases</th>\n",
       "      <th>cash_adv</th>\n",
       "      <th>purchases_freq</th>\n",
       "      <th>one_purchases_freq</th>\n",
       "      <th>purchases_install_freq</th>\n",
       "      <th>cash_adv_freq</th>\n",
       "      <th>cash_adv_TRX</th>\n",
       "      <th>purchases_trx</th>\n",
       "      <th>credit_limit</th>\n",
       "      <th>payments</th>\n",
       "      <th>min_pay</th>\n",
       "      <th>prc_full_pay</th>\n",
       "      <th>tenure</th>\n",
       "    </tr>\n",
       "  </thead>\n",
       "  <tbody>\n",
       "    <tr>\n",
       "      <th>0</th>\n",
       "      <td>C10001</td>\n",
       "      <td>40.900749</td>\n",
       "      <td>0.818182</td>\n",
       "      <td>95.40</td>\n",
       "      <td>0.00</td>\n",
       "      <td>95.40</td>\n",
       "      <td>0.000000</td>\n",
       "      <td>0.166667</td>\n",
       "      <td>0.000000</td>\n",
       "      <td>0.083333</td>\n",
       "      <td>0.00</td>\n",
       "      <td>0</td>\n",
       "      <td>2</td>\n",
       "      <td>1000.0</td>\n",
       "      <td>201.802084</td>\n",
       "      <td>139.509787</td>\n",
       "      <td>0.000000</td>\n",
       "      <td>12</td>\n",
       "    </tr>\n",
       "    <tr>\n",
       "      <th>1</th>\n",
       "      <td>C10002</td>\n",
       "      <td>3202.467416</td>\n",
       "      <td>0.909091</td>\n",
       "      <td>0.00</td>\n",
       "      <td>0.00</td>\n",
       "      <td>0.00</td>\n",
       "      <td>6442.945483</td>\n",
       "      <td>0.000000</td>\n",
       "      <td>0.000000</td>\n",
       "      <td>0.000000</td>\n",
       "      <td>0.25</td>\n",
       "      <td>4</td>\n",
       "      <td>0</td>\n",
       "      <td>7000.0</td>\n",
       "      <td>4103.032597</td>\n",
       "      <td>1072.340217</td>\n",
       "      <td>0.222222</td>\n",
       "      <td>12</td>\n",
       "    </tr>\n",
       "    <tr>\n",
       "      <th>2</th>\n",
       "      <td>C10003</td>\n",
       "      <td>2495.148862</td>\n",
       "      <td>1.000000</td>\n",
       "      <td>773.17</td>\n",
       "      <td>773.17</td>\n",
       "      <td>0.00</td>\n",
       "      <td>0.000000</td>\n",
       "      <td>1.000000</td>\n",
       "      <td>1.000000</td>\n",
       "      <td>0.000000</td>\n",
       "      <td>0.00</td>\n",
       "      <td>0</td>\n",
       "      <td>12</td>\n",
       "      <td>7500.0</td>\n",
       "      <td>622.066742</td>\n",
       "      <td>627.284787</td>\n",
       "      <td>0.000000</td>\n",
       "      <td>12</td>\n",
       "    </tr>\n",
       "    <tr>\n",
       "      <th>4</th>\n",
       "      <td>C10005</td>\n",
       "      <td>817.714335</td>\n",
       "      <td>1.000000</td>\n",
       "      <td>16.00</td>\n",
       "      <td>16.00</td>\n",
       "      <td>0.00</td>\n",
       "      <td>0.000000</td>\n",
       "      <td>0.083333</td>\n",
       "      <td>0.083333</td>\n",
       "      <td>0.000000</td>\n",
       "      <td>0.00</td>\n",
       "      <td>0</td>\n",
       "      <td>1</td>\n",
       "      <td>1200.0</td>\n",
       "      <td>678.334763</td>\n",
       "      <td>244.791237</td>\n",
       "      <td>0.000000</td>\n",
       "      <td>12</td>\n",
       "    </tr>\n",
       "    <tr>\n",
       "      <th>5</th>\n",
       "      <td>C10006</td>\n",
       "      <td>1809.828751</td>\n",
       "      <td>1.000000</td>\n",
       "      <td>1333.28</td>\n",
       "      <td>0.00</td>\n",
       "      <td>1333.28</td>\n",
       "      <td>0.000000</td>\n",
       "      <td>0.666667</td>\n",
       "      <td>0.000000</td>\n",
       "      <td>0.583333</td>\n",
       "      <td>0.00</td>\n",
       "      <td>0</td>\n",
       "      <td>8</td>\n",
       "      <td>1800.0</td>\n",
       "      <td>1400.057770</td>\n",
       "      <td>2407.246035</td>\n",
       "      <td>0.000000</td>\n",
       "      <td>12</td>\n",
       "    </tr>\n",
       "  </tbody>\n",
       "</table>\n",
       "</div>"
      ],
      "text/plain": [
       "       id      balance  balance_freq  purchases  one_purchases  install_purchases     cash_adv  purchases_freq  one_purchases_freq  purchases_install_freq  cash_adv_freq  cash_adv_TRX  purchases_trx  credit_limit     payments      min_pay  prc_full_pay  tenure\n",
       "0  C10001    40.900749      0.818182      95.40           0.00              95.40     0.000000        0.166667            0.000000                0.083333           0.00             0              2        1000.0   201.802084   139.509787      0.000000      12\n",
       "1  C10002  3202.467416      0.909091       0.00           0.00               0.00  6442.945483        0.000000            0.000000                0.000000           0.25             4              0        7000.0  4103.032597  1072.340217      0.222222      12\n",
       "2  C10003  2495.148862      1.000000     773.17         773.17               0.00     0.000000        1.000000            1.000000                0.000000           0.00             0             12        7500.0   622.066742   627.284787      0.000000      12\n",
       "4  C10005   817.714335      1.000000      16.00          16.00               0.00     0.000000        0.083333            0.083333                0.000000           0.00             0              1        1200.0   678.334763   244.791237      0.000000      12\n",
       "5  C10006  1809.828751      1.000000    1333.28           0.00            1333.28     0.000000        0.666667            0.000000                0.583333           0.00             0              8        1800.0  1400.057770  2407.246035      0.000000      12"
      ]
     },
     "execution_count": 47,
     "metadata": {},
     "output_type": "execute_result"
    }
   ],
   "source": [
    "df2.head()"
   ]
  },
  {
   "cell_type": "markdown",
   "id": "d945192f",
   "metadata": {},
   "source": [
    "# 3.0 Feature Engeneering"
   ]
  },
  {
   "cell_type": "code",
   "execution_count": 48,
   "id": "db2a37d0",
   "metadata": {
    "ExecuteTime": {
     "end_time": "2023-01-16T15:35:04.830966Z",
     "start_time": "2023-01-16T15:35:04.826715Z"
    }
   },
   "outputs": [],
   "source": [
    "df3 = df2.copy()"
   ]
  },
  {
   "cell_type": "markdown",
   "id": "b4c63af1",
   "metadata": {},
   "source": [
    "# 4.0 Exploratory Data Analysis"
   ]
  },
  {
   "cell_type": "code",
   "execution_count": 49,
   "id": "04a33fba",
   "metadata": {
    "ExecuteTime": {
     "end_time": "2023-01-16T15:35:05.227060Z",
     "start_time": "2023-01-16T15:35:05.223410Z"
    }
   },
   "outputs": [],
   "source": [
    "df4 = df3.copy()"
   ]
  },
  {
   "cell_type": "markdown",
   "id": "bb962cac",
   "metadata": {
    "ExecuteTime": {
     "end_time": "2023-01-12T14:53:22.351841Z",
     "start_time": "2023-01-12T14:53:22.349203Z"
    }
   },
   "source": [
    "# 5.0 Data Preparation"
   ]
  },
  {
   "cell_type": "code",
   "execution_count": 50,
   "id": "d1aab736",
   "metadata": {
    "ExecuteTime": {
     "end_time": "2023-01-16T15:35:05.579022Z",
     "start_time": "2023-01-16T15:35:05.575578Z"
    }
   },
   "outputs": [],
   "source": [
    "df5 = df4.copy()"
   ]
  },
  {
   "cell_type": "markdown",
   "id": "d44e139f",
   "metadata": {},
   "source": [
    "# 6.0 Feature Selection"
   ]
  },
  {
   "cell_type": "code",
   "execution_count": 51,
   "id": "f0e2d9e5",
   "metadata": {
    "ExecuteTime": {
     "end_time": "2023-01-16T15:35:06.141716Z",
     "start_time": "2023-01-16T15:35:06.138438Z"
    }
   },
   "outputs": [],
   "source": [
    "df6 = df5.copy()"
   ]
  },
  {
   "cell_type": "code",
   "execution_count": 52,
   "id": "2b292ba9",
   "metadata": {
    "ExecuteTime": {
     "end_time": "2023-01-16T15:35:06.352290Z",
     "start_time": "2023-01-16T15:35:06.332896Z"
    }
   },
   "outputs": [
    {
     "data": {
      "text/html": [
       "<div>\n",
       "<style scoped>\n",
       "    .dataframe tbody tr th:only-of-type {\n",
       "        vertical-align: middle;\n",
       "    }\n",
       "\n",
       "    .dataframe tbody tr th {\n",
       "        vertical-align: top;\n",
       "    }\n",
       "\n",
       "    .dataframe thead th {\n",
       "        text-align: right;\n",
       "    }\n",
       "</style>\n",
       "<table border=\"1\" class=\"dataframe\">\n",
       "  <thead>\n",
       "    <tr style=\"text-align: right;\">\n",
       "      <th></th>\n",
       "      <th>id</th>\n",
       "      <th>balance</th>\n",
       "      <th>balance_freq</th>\n",
       "      <th>purchases</th>\n",
       "      <th>one_purchases</th>\n",
       "      <th>install_purchases</th>\n",
       "      <th>cash_adv</th>\n",
       "      <th>purchases_freq</th>\n",
       "      <th>one_purchases_freq</th>\n",
       "      <th>purchases_install_freq</th>\n",
       "      <th>cash_adv_freq</th>\n",
       "      <th>cash_adv_TRX</th>\n",
       "      <th>purchases_trx</th>\n",
       "      <th>credit_limit</th>\n",
       "      <th>payments</th>\n",
       "      <th>min_pay</th>\n",
       "      <th>prc_full_pay</th>\n",
       "      <th>tenure</th>\n",
       "    </tr>\n",
       "  </thead>\n",
       "  <tbody>\n",
       "    <tr>\n",
       "      <th>0</th>\n",
       "      <td>C10001</td>\n",
       "      <td>40.900749</td>\n",
       "      <td>0.818182</td>\n",
       "      <td>95.40</td>\n",
       "      <td>0.00</td>\n",
       "      <td>95.40</td>\n",
       "      <td>0.000000</td>\n",
       "      <td>0.166667</td>\n",
       "      <td>0.000000</td>\n",
       "      <td>0.083333</td>\n",
       "      <td>0.00</td>\n",
       "      <td>0</td>\n",
       "      <td>2</td>\n",
       "      <td>1000.0</td>\n",
       "      <td>201.802084</td>\n",
       "      <td>139.509787</td>\n",
       "      <td>0.000000</td>\n",
       "      <td>12</td>\n",
       "    </tr>\n",
       "    <tr>\n",
       "      <th>1</th>\n",
       "      <td>C10002</td>\n",
       "      <td>3202.467416</td>\n",
       "      <td>0.909091</td>\n",
       "      <td>0.00</td>\n",
       "      <td>0.00</td>\n",
       "      <td>0.00</td>\n",
       "      <td>6442.945483</td>\n",
       "      <td>0.000000</td>\n",
       "      <td>0.000000</td>\n",
       "      <td>0.000000</td>\n",
       "      <td>0.25</td>\n",
       "      <td>4</td>\n",
       "      <td>0</td>\n",
       "      <td>7000.0</td>\n",
       "      <td>4103.032597</td>\n",
       "      <td>1072.340217</td>\n",
       "      <td>0.222222</td>\n",
       "      <td>12</td>\n",
       "    </tr>\n",
       "    <tr>\n",
       "      <th>2</th>\n",
       "      <td>C10003</td>\n",
       "      <td>2495.148862</td>\n",
       "      <td>1.000000</td>\n",
       "      <td>773.17</td>\n",
       "      <td>773.17</td>\n",
       "      <td>0.00</td>\n",
       "      <td>0.000000</td>\n",
       "      <td>1.000000</td>\n",
       "      <td>1.000000</td>\n",
       "      <td>0.000000</td>\n",
       "      <td>0.00</td>\n",
       "      <td>0</td>\n",
       "      <td>12</td>\n",
       "      <td>7500.0</td>\n",
       "      <td>622.066742</td>\n",
       "      <td>627.284787</td>\n",
       "      <td>0.000000</td>\n",
       "      <td>12</td>\n",
       "    </tr>\n",
       "    <tr>\n",
       "      <th>4</th>\n",
       "      <td>C10005</td>\n",
       "      <td>817.714335</td>\n",
       "      <td>1.000000</td>\n",
       "      <td>16.00</td>\n",
       "      <td>16.00</td>\n",
       "      <td>0.00</td>\n",
       "      <td>0.000000</td>\n",
       "      <td>0.083333</td>\n",
       "      <td>0.083333</td>\n",
       "      <td>0.000000</td>\n",
       "      <td>0.00</td>\n",
       "      <td>0</td>\n",
       "      <td>1</td>\n",
       "      <td>1200.0</td>\n",
       "      <td>678.334763</td>\n",
       "      <td>244.791237</td>\n",
       "      <td>0.000000</td>\n",
       "      <td>12</td>\n",
       "    </tr>\n",
       "    <tr>\n",
       "      <th>5</th>\n",
       "      <td>C10006</td>\n",
       "      <td>1809.828751</td>\n",
       "      <td>1.000000</td>\n",
       "      <td>1333.28</td>\n",
       "      <td>0.00</td>\n",
       "      <td>1333.28</td>\n",
       "      <td>0.000000</td>\n",
       "      <td>0.666667</td>\n",
       "      <td>0.000000</td>\n",
       "      <td>0.583333</td>\n",
       "      <td>0.00</td>\n",
       "      <td>0</td>\n",
       "      <td>8</td>\n",
       "      <td>1800.0</td>\n",
       "      <td>1400.057770</td>\n",
       "      <td>2407.246035</td>\n",
       "      <td>0.000000</td>\n",
       "      <td>12</td>\n",
       "    </tr>\n",
       "  </tbody>\n",
       "</table>\n",
       "</div>"
      ],
      "text/plain": [
       "       id      balance  balance_freq  purchases  one_purchases  install_purchases     cash_adv  purchases_freq  one_purchases_freq  purchases_install_freq  cash_adv_freq  cash_adv_TRX  purchases_trx  credit_limit     payments      min_pay  prc_full_pay  tenure\n",
       "0  C10001    40.900749      0.818182      95.40           0.00              95.40     0.000000        0.166667            0.000000                0.083333           0.00             0              2        1000.0   201.802084   139.509787      0.000000      12\n",
       "1  C10002  3202.467416      0.909091       0.00           0.00               0.00  6442.945483        0.000000            0.000000                0.000000           0.25             4              0        7000.0  4103.032597  1072.340217      0.222222      12\n",
       "2  C10003  2495.148862      1.000000     773.17         773.17               0.00     0.000000        1.000000            1.000000                0.000000           0.00             0             12        7500.0   622.066742   627.284787      0.000000      12\n",
       "4  C10005   817.714335      1.000000      16.00          16.00               0.00     0.000000        0.083333            0.083333                0.000000           0.00             0              1        1200.0   678.334763   244.791237      0.000000      12\n",
       "5  C10006  1809.828751      1.000000    1333.28           0.00            1333.28     0.000000        0.666667            0.000000                0.583333           0.00             0              8        1800.0  1400.057770  2407.246035      0.000000      12"
      ]
     },
     "execution_count": 52,
     "metadata": {},
     "output_type": "execute_result"
    }
   ],
   "source": [
    "df6.head()"
   ]
  },
  {
   "cell_type": "markdown",
   "id": "f736e519",
   "metadata": {},
   "source": [
    "# 7.0 Fine Tunning Hyperparameter"
   ]
  },
  {
   "cell_type": "code",
   "execution_count": 65,
   "id": "f6d75711",
   "metadata": {
    "ExecuteTime": {
     "end_time": "2023-01-16T16:02:52.557470Z",
     "start_time": "2023-01-16T16:02:52.547516Z"
    }
   },
   "outputs": [],
   "source": [
    "df7 = df6.copy()\n",
    "\n",
    "\n",
    "x = df7.drop( columns=['id'] )\n"
   ]
  },
  {
   "cell_type": "markdown",
   "id": "1cfd7cf2",
   "metadata": {},
   "source": [
    "## 7.1 KMeans"
   ]
  },
  {
   "cell_type": "code",
   "execution_count": 66,
   "id": "06e91a8f",
   "metadata": {
    "ExecuteTime": {
     "end_time": "2023-01-16T16:03:05.122995Z",
     "start_time": "2023-01-16T16:02:52.948835Z"
    }
   },
   "outputs": [],
   "source": [
    "clusters = [2, 3, 4, 5, 6, 7, 8]\n",
    "\n",
    "silhouette_list = []\n",
    "davies_list = []\n",
    "\n",
    "for k in clusters:\n",
    "    # modeldefinition\n",
    "    kmeans_model = c.KMeans( n_init=10, n_clusters=k )\n",
    "    \n",
    "    # model training\n",
    "    kmeans_model.fit( x )\n",
    "    \n",
    "    # Model predict \n",
    "    labels =  kmeans_model.predict( x )\n",
    "    \n",
    "    # model performance\n",
    "    sil = m.silhouette_score( x, labels )\n",
    "    dav = m.davies_bouldin_score( x, labels )\n",
    "    \n",
    "    \n",
    "    silhouette_list.append( sil)\n",
    "    davies_list.append( dav )\n"
   ]
  },
  {
   "cell_type": "code",
   "execution_count": 67,
   "id": "5829dd89",
   "metadata": {
    "ExecuteTime": {
     "end_time": "2023-01-16T16:03:05.584445Z",
     "start_time": "2023-01-16T16:03:05.126011Z"
    }
   },
   "outputs": [
    {
     "data": {
      "image/png": "[encoded data removed]",
      "text/plain": [
       "<Figure size 2000x1000 with 1 Axes>"
      ]
     },
     "metadata": {},
     "output_type": "display_data"
    }
   ],
   "source": [
    "plt.figure( figsize=( 20, 10))\n",
    "plt.plot( clusters, silhouette_list, linestyle='--', marker='o', color='b')\n",
    "plt.xlabel( 'k - Number of Clusters' )\n",
    "plt.ylabel( 'SS - Silhouette Score' )\n",
    "plt.title('Silhouette Score');"
   ]
  },
  {
   "cell_type": "code",
   "execution_count": 68,
   "id": "1f59c52c",
   "metadata": {
    "ExecuteTime": {
     "end_time": "2023-01-16T16:03:06.053918Z",
     "start_time": "2023-01-16T16:03:05.587458Z"
    }
   },
   "outputs": [
    {
     "data": {
      "image/png": "[encoded data removed]",
      "text/plain": [
       "<Figure size 2000x1000 with 1 Axes>"
      ]
     },
     "metadata": {},
     "output_type": "display_data"
    }
   ],
   "source": [
    "plt.figure( figsize=( 20, 10))\n",
    "plt.plot( clusters, davies_list, linestyle='--', marker='o', color='b')\n",
    "plt.xlabel( 'k - Number of Clusters' )\n",
    "plt.ylabel( 'DB - Davies Score' )\n",
    "plt.title('Davies Score');"
   ]
  },
  {
   "cell_type": "markdown",
   "id": "fd653b69",
   "metadata": {},
   "source": [
    "# 8.0 Machine Learning"
   ]
  },
  {
   "cell_type": "markdown",
   "id": "7b7bd4d1",
   "metadata": {},
   "source": [
    "# 9.0 Clustering Analysis"
   ]
  },
  {
   "cell_type": "markdown",
   "id": "10defde3",
   "metadata": {
    "ExecuteTime": {
     "end_time": "2023-01-16T14:19:32.489275Z",
     "start_time": "2023-01-16T14:19:32.486511Z"
    }
   },
   "source": [
    "# 10.0 EDA - Insight Reports"
   ]
  },
  {
   "cell_type": "markdown",
   "id": "e1fe5829",
   "metadata": {},
   "source": [
    "# 11.0 Deploy to Production"
   ]
  },
  {
   "cell_type": "code",
   "execution_count": null,
   "id": "1dc55643",
   "metadata": {},
   "outputs": [],
   "source": []
  }
 ],
 "metadata": {
  "kernelspec": {
   "display_name": "Python 3 (ipykernel)",
   "language": "python",
   "name": "python3"
  },
  "language_info": {
   "codemirror_mode": {
    "name": "ipython",
    "version": 3
   },
   "file_extension": ".py",
   "mimetype": "text/x-python",
   "name": "python",
   "nbconvert_exporter": "python",
   "pygments_lexer": "ipython3",
   "version": "3.9.15"
  }
 },
 "nbformat": 4,
 "nbformat_minor": 5
}
